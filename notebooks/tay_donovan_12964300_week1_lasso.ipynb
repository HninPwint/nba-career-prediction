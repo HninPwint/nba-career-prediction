{
 "cells": [
  {
   "cell_type": "code",
   "execution_count": 8,
   "metadata": {},
   "outputs": [],
   "source": [
    "#Initial imports"
   ]
  },
  {
   "cell_type": "code",
   "execution_count": 39,
   "metadata": {},
   "outputs": [],
   "source": [
    "import pandas as pd\n",
    "import numpy as np\n",
    "import os\n",
    "import sys\n",
    "sys.path.append(os.path.abspath('..'))\n",
    "from src.common_lib import DataReader, NBARawData"
   ]
  },
  {
   "cell_type": "code",
   "execution_count": 2,
   "metadata": {},
   "outputs": [],
   "source": [
    "#Load dataset, remove redundant column 'Id_old'"
   ]
  },
  {
   "cell_type": "code",
   "execution_count": 31,
   "metadata": {},
   "outputs": [],
   "source": [
    "data_reader = DataReader()\n",
    "# Load Raw Train Data\n",
    "df_train = data_reader.read_data(NBARawData.TRAIN)\n",
    "# Load Test Raw Data\n",
    "df_test = data_reader.read_data(NBARawData.TEST)"
   ]
  },
  {
   "cell_type": "code",
   "execution_count": 32,
   "metadata": {},
   "outputs": [
    {
     "data": {
      "text/plain": [
       "<bound method NDFrame.describe of          id  gp   min   pts  fgm  fga   fg%  3p made  3pa   3p%  ...  fta  \\\n",
       "0      3799  80  24.3   7.8  3.0  6.4  45.7      0.1  0.3  22.6  ...  2.9   \n",
       "1      3800  75  21.8  10.5  4.2  7.9  55.1     -0.3 -1.0  34.9  ...  3.6   \n",
       "2      3801  85  19.1   4.5  1.9  4.5  42.8      0.4  1.2  34.3  ...  0.6   \n",
       "3      3802  63  19.1   8.2  3.5  6.7  52.5      0.3  0.8  23.7  ...  1.5   \n",
       "4      3803  63  17.8   3.7  1.7  3.4  50.8      0.5  1.4  13.7  ...  0.5   \n",
       "...     ...  ..   ...   ...  ...  ...   ...      ...  ...   ...  ...  ...   \n",
       "7995  11794  32   9.2   1.8  0.7  1.8  40.3     -0.1 -0.2  23.1  ...  0.6   \n",
       "7996  11795  54   6.0   1.8  0.7  1.4  48.7      0.1  0.1   3.1  ...  0.4   \n",
       "7997  11796  85  28.2  10.7  4.0  9.0  45.1      0.2  0.6  23.6  ...  3.9   \n",
       "7998  11797  39   7.7   2.5  1.0  2.3  40.1     -0.3 -0.5  13.3  ...  0.7   \n",
       "7999  11798  49  19.2   4.8  1.7  5.1  32.6      0.7  2.4  41.3  ...  1.3   \n",
       "\n",
       "       ft%  oreb  dreb  reb  ast  stl  blk  tov  target_5yrs  \n",
       "0     72.1   2.2   2.0  3.8  3.2  1.1  0.2  1.6            1  \n",
       "1     67.8   3.6   3.7  6.6  0.7  0.5  0.6  1.4            1  \n",
       "2     75.7   0.6   1.8  2.4  0.8  0.4  0.2  0.6            1  \n",
       "3     66.9   0.8   2.0  3.0  1.8  0.4  0.1  1.9            1  \n",
       "4     54.0   2.4   2.7  4.9  0.4  0.4  0.6  0.7            1  \n",
       "...    ...   ...   ...  ...  ...  ...  ...  ...          ...  \n",
       "7995  65.7   0.3   1.8  1.9  0.5  0.3  0.2  0.4            1  \n",
       "7996  70.1   1.0   1.1  2.0  0.1  0.0  0.3  0.3            1  \n",
       "7997  69.7   1.0   2.1  3.1  3.4  1.2  0.2  1.8            1  \n",
       "7998  74.3   0.4   0.6  0.9  0.2  0.3  0.3  0.5            1  \n",
       "7999  70.1   0.1   1.1  1.2  3.5  0.9 -0.3  1.4            1  \n",
       "\n",
       "[8000 rows x 21 columns]>"
      ]
     },
     "execution_count": 32,
     "metadata": {},
     "output_type": "execute_result"
    }
   ],
   "source": [
    "#For train dataframe, remove redundant column 'Id_old'\n",
    "df_train.drop('id_old', axis=1, inplace=True)\n",
    "df_train.columns = df_train.columns.str.strip()\n",
    "df_train.describe"
   ]
  },
  {
   "cell_type": "code",
   "execution_count": 33,
   "metadata": {},
   "outputs": [
    {
     "data": {
      "text/plain": [
       "<bound method NDFrame.describe of         id  gp   min   pts  fgm   fga   fg%  3p made  3pa   3p%  ftm  fta  \\\n",
       "0        0  56   9.1   4.0  1.6   3.7  43.7      0.1  0.3   7.3  0.7  1.2   \n",
       "1        1  43  19.3  10.1  3.7   8.1  46.0      0.6  1.7  35.1  1.8  2.5   \n",
       "2        2  82  33.9  11.3  4.9  10.6  45.6      0.5  1.9  44.8  1.8  2.7   \n",
       "3        3  86  44.7  18.8  6.8  15.9  42.9      0.5  1.8  13.5  4.5  6.3   \n",
       "4        4  58  12.3   4.7  1.6   4.0  40.0      0.5  1.7  38.7  1.1  1.3   \n",
       "...    ...  ..   ...   ...  ...   ...   ...      ...  ...   ...  ...  ...   \n",
       "3794  3794  84  21.2   8.7  3.4   6.7  50.2      0.0  0.0  -4.5  1.7  2.5   \n",
       "3795  3795  49  16.3   6.4  2.9   6.6  44.4     -0.1 -0.4  19.8  1.0  1.9   \n",
       "3796  3796  53   9.9   2.1  0.8   1.8  43.1     -0.4 -0.6   1.9  0.6  1.0   \n",
       "3797  3797  89  38.3  14.5  5.4  11.8  45.2      0.5  1.2  24.7  2.5  2.9   \n",
       "3798  3798  55  12.0   3.0  1.1   2.5  42.3      0.1  0.6  11.7  0.9  1.1   \n",
       "\n",
       "       ft%  oreb  dreb  reb  ast  stl  blk  tov  \n",
       "0     63.4   1.2   0.8  1.7  0.4  0.2  0.3  0.8  \n",
       "1     75.3   0.5   0.9  1.5  3.5  0.6  0.0  1.8  \n",
       "2     71.2   1.3   3.3  4.5  2.5  1.3  0.3  2.0  \n",
       "3     70.9   1.5   3.2  5.0  4.1  0.9  0.1  3.6  \n",
       "4     76.9   0.2   0.6  0.9  1.5  0.5 -0.4  0.9  \n",
       "...    ...   ...   ...  ...  ...  ...  ...  ...  \n",
       "3794  68.1   1.9   2.3  3.9  1.5  0.6  0.3  2.0  \n",
       "3795  50.2   1.7   2.8  4.4  0.4  0.4  0.4  0.7  \n",
       "3796  63.9   0.7   1.0  1.7  0.4  0.4  0.2  0.5  \n",
       "3797  89.2   1.5   4.0  5.5  3.7  1.3  0.3  2.4  \n",
       "3798  76.7   0.7   2.0  2.6  0.6  0.3  0.2  1.2  \n",
       "\n",
       "[3799 rows x 20 columns]>"
      ]
     },
     "execution_count": 33,
     "metadata": {},
     "output_type": "execute_result"
    }
   ],
   "source": [
    "#For test dataframe, remove redundant column 'Id_old'\n",
    "df_test.drop('id_old', axis=1, inplace=True)\n",
    "df_test.columns = df_test.columns.str.strip()\n",
    "df_test.describe"
   ]
  },
  {
   "cell_type": "code",
   "execution_count": 34,
   "metadata": {},
   "outputs": [],
   "source": [
    "# Split the original dataset into Data-Test set\n",
    "#X_train, X_val, y_train, y_val  = data_reader.split_data(df_train)\n",
    "\n",
    "#Isolate target column\n",
    "target = df_train.pop('target_5yrs')"
   ]
  },
  {
   "cell_type": "code",
   "execution_count": 35,
   "metadata": {},
   "outputs": [],
   "source": [
    "#Create test/train split\n",
    "from sklearn.model_selection import train_test_split\n",
    "X_train, X_val, y_train, y_val = train_test_split(df_train, target, test_size=0.2, random_state=8)\n",
    "\n",
    "X_test = df_test()"
   ]
  },
  {
   "cell_type": "markdown",
   "metadata": {},
   "source": [
    "Load classifiers"
   ]
  },
  {
   "cell_type": "code",
   "execution_count": 100,
   "metadata": {},
   "outputs": [],
   "source": [
    "#Classifier imports\n",
    "from sklearn.metrics import f1_score\n",
    "from sklearn.metrics import mean_squared_error\n",
    "from math import sqrt\n",
    "from sklearn.neighbors import KNeighborsClassifier\n",
    "from sklearn.svm import SVC, LinearSVC, NuSVC\n",
    "from sklearn.tree import DecisionTreeClassifier\n",
    "from sklearn.ensemble import RandomForestClassifier, AdaBoostClassifier, GradientBoostingClassifier\n",
    "from sklearn.discriminant_analysis import LinearDiscriminantAnalysis\n",
    "from sklearn.discriminant_analysis import QuadraticDiscriminantAnalysis\n",
    "from sklearn import linear_model\n",
    "from sklearn.linear_model import ElasticNetCV\n",
    "from sklearn.svm import SVR\n",
    "from sklearn.cluster import KMeans\n",
    "from sklearn.linear_model import LassoCV"
   ]
  },
  {
   "cell_type": "code",
   "execution_count": 116,
   "metadata": {
    "scrolled": true
   },
   "outputs": [
    {
     "name": "stdout",
     "output_type": "stream",
     "text": [
      "LassoCV(alphas=None, copy_X=True, cv=5, eps=0.001, fit_intercept=True,\n",
      "        max_iter=1000, n_alphas=100, n_jobs=-1, normalize=False, positive=False,\n",
      "        precompute='auto', random_state=None, selection='cyclic', tol=0.0001,\n",
      "        verbose=False)\n",
      "mean squared error: 0.355\n",
      "LinearRegression(copy_X=True, fit_intercept=True, n_jobs=None, normalize=False)\n",
      "mean squared error: 0.355\n",
      "ElasticNetCV(alphas=None, copy_X=True, cv=5, eps=0.001, fit_intercept=True,\n",
      "             l1_ratio=0.5, max_iter=5000, n_alphas=100, n_jobs=None,\n",
      "             normalize=False, positive=False, precompute='auto', random_state=0,\n",
      "             selection='cyclic', tol=0.0001, verbose=0)\n",
      "mean squared error: 0.355\n",
      "SVR(C=1.0, cache_size=200, coef0=0.0, degree=3, epsilon=0.1, gamma='auto',\n",
      "    kernel='rbf', max_iter=-1, shrinking=True, tol=0.001, verbose=False)\n",
      "mean squared error: 0.375\n",
      "Ridge(alpha=0.05, copy_X=True, fit_intercept=True, max_iter=None,\n",
      "      normalize=False, random_state=None, solver='auto', tol=0.001)\n",
      "mean squared error: 0.355\n"
     ]
    }
   ],
   "source": [
    "#Select classifiers and display RMSE score:\n",
    "regressors = [\n",
    "    linear_model.LassoCV(alphas=None, cv=5, n_jobs=-1),\n",
    "    linear_model.LinearRegression(),\n",
    "    ElasticNetCV(alphas=None, copy_X=True, cv=5, eps=0.001, fit_intercept=True,\n",
    "       l1_ratio=0.5, max_iter=5000, n_alphas=100, n_jobs=None,\n",
    "       normalize=False, positive=False, precompute='auto', random_state=0,\n",
    "       selection='cyclic', tol=0.0001, verbose=0),\n",
    "    SVR(C=1.0, cache_size=200, coef0=0.0, degree=3, epsilon=0.1,\n",
    "    gamma='auto', kernel='rbf', max_iter=-1, shrinking=True,\n",
    "    tol=0.001, verbose=False),\n",
    "    linear_model.Ridge(alpha=.05)                \n",
    "    ]\n",
    "for regressor in regressors:\n",
    "    model = regressor\n",
    "    model.fit(X_train, y_train)  \n",
    "    y_pred_b = model.predict(X_val)\n",
    "    print(regressor)\n",
    "    print(\"mean squared error: %.3f\" % sqrt(mean_squared_error(y_val, y_pred_b)))\n",
    " "
   ]
  },
  {
   "cell_type": "code",
   "execution_count": 118,
   "metadata": {},
   "outputs": [],
   "source": [
    "#Tune LassoCV\n",
    "model = LassoCV(alphas=np.arange(0, 1, 0.01), cv=5, n_jobs=-1)"
   ]
  },
  {
   "cell_type": "code",
   "execution_count": 119,
   "metadata": {
    "scrolled": true
   },
   "outputs": [
    {
     "name": "stderr",
     "output_type": "stream",
     "text": [
      "/opt/conda/lib/python3.7/site-packages/sklearn/linear_model/_coordinate_descent.py:472: UserWarning: Coordinate descent with alpha=0 may lead to unexpected results and is discouraged.\n",
      "  tol, rng, random, positive)\n",
      "/opt/conda/lib/python3.7/site-packages/sklearn/linear_model/_coordinate_descent.py:472: ConvergenceWarning: Objective did not converge. You might want to increase the number of iterations. Duality gap: 330.07463258451315, tolerance: 0.0715546875\n",
      "  tol, rng, random, positive)\n",
      "/opt/conda/lib/python3.7/site-packages/sklearn/linear_model/_coordinate_descent.py:472: UserWarning: Coordinate descent with alpha=0 may lead to unexpected results and is discouraged.\n",
      "  tol, rng, random, positive)\n",
      "/opt/conda/lib/python3.7/site-packages/sklearn/linear_model/_coordinate_descent.py:472: ConvergenceWarning: Objective did not converge. You might want to increase the number of iterations. Duality gap: 328.6457640673842, tolerance: 0.07135529296875029\n",
      "  tol, rng, random, positive)\n",
      "/opt/conda/lib/python3.7/site-packages/sklearn/linear_model/_coordinate_descent.py:472: UserWarning: Coordinate descent with alpha=0 may lead to unexpected results and is discouraged.\n",
      "  tol, rng, random, positive)\n",
      "/opt/conda/lib/python3.7/site-packages/sklearn/linear_model/_coordinate_descent.py:472: UserWarning: Coordinate descent with alpha=0 may lead to unexpected results and is discouraged.\n",
      "  tol, rng, random, positive)\n",
      "/opt/conda/lib/python3.7/site-packages/sklearn/linear_model/_coordinate_descent.py:472: ConvergenceWarning: Objective did not converge. You might want to increase the number of iterations. Duality gap: 328.7911428592246, tolerance: 0.0715546875\n",
      "  tol, rng, random, positive)\n",
      "/opt/conda/lib/python3.7/site-packages/sklearn/linear_model/_coordinate_descent.py:472: ConvergenceWarning: Objective did not converge. You might want to increase the number of iterations. Duality gap: 332.3709997153414, tolerance: 0.072216796875\n",
      "  tol, rng, random, positive)\n",
      "/opt/conda/lib/python3.7/site-packages/sklearn/linear_model/_coordinate_descent.py:472: UserWarning: Coordinate descent with alpha=0 may lead to unexpected results and is discouraged.\n",
      "  tol, rng, random, positive)\n",
      "/opt/conda/lib/python3.7/site-packages/sklearn/linear_model/_coordinate_descent.py:472: ConvergenceWarning: Objective did not converge. You might want to increase the number of iterations. Duality gap: 328.16158377493616, tolerance: 0.07082185546874976\n",
      "  tol, rng, random, positive)\n",
      "/opt/conda/lib/python3.7/site-packages/sklearn/linear_model/_coordinate_descent.py:1218: UserWarning: With alpha=0, this algorithm does not converge well. You are advised to use the LinearRegression estimator\n",
      "  model.fit(X, y)\n",
      "/opt/conda/lib/python3.7/site-packages/sklearn/linear_model/_coordinate_descent.py:476: UserWarning: Coordinate descent with no regularization may lead to unexpected results and is discouraged.\n",
      "  positive)\n",
      "/opt/conda/lib/python3.7/site-packages/sklearn/linear_model/_coordinate_descent.py:476: ConvergenceWarning: Objective did not converge. You might want to increase the number of iterations. Duality gap: 412.3106966318703, tolerance: 0.08937693750000027\n",
      "  positive)\n"
     ]
    }
   ],
   "source": [
    "model.fit(X_train, y_train);"
   ]
  },
  {
   "cell_type": "code",
   "execution_count": 120,
   "metadata": {},
   "outputs": [
    {
     "data": {
      "text/plain": [
       "['../models/LassoCV.joblib']"
      ]
     },
     "execution_count": 120,
     "metadata": {},
     "output_type": "execute_result"
    }
   ],
   "source": [
    "#Store model in /models\n",
    "from joblib import dump\n",
    "dump(model, '../models/LassoCV.joblib')"
   ]
  },
  {
   "cell_type": "code",
   "execution_count": 122,
   "metadata": {},
   "outputs": [
    {
     "name": "stdout",
     "output_type": "stream",
     "text": [
      "alpha: 0.000000\n"
     ]
    }
   ],
   "source": [
    "#Print optimised model parameters\n",
    "print('alpha: %f' % model.alpha_)"
   ]
  },
  {
   "cell_type": "code",
   "execution_count": 123,
   "metadata": {},
   "outputs": [],
   "source": [
    "#Create predictions for train and validation\n",
    "y_train_preds = model.predict(X_train)\n",
    "y_val_preds = model.predict(X_val)"
   ]
  },
  {
   "cell_type": "code",
   "execution_count": 124,
   "metadata": {},
   "outputs": [
    {
     "name": "stdout",
     "output_type": "stream",
     "text": [
      "0.3589527722381588\n",
      "0.2618999744965639\n"
     ]
    },
    {
     "data": {
      "text/plain": [
       "0.83234375"
      ]
     },
     "execution_count": 124,
     "metadata": {},
     "output_type": "execute_result"
    }
   ],
   "source": [
    "#Evaluate train predictions\n",
    "from sklearn.metrics import mean_squared_error as mse\n",
    "from sklearn.metrics import mean_absolute_error as mae\n",
    "from sklearn.metrics import confusion_matrix\n",
    "from sklearn.metrics import accuracy_score\n",
    "\n",
    "print(mse(y_train, y_train_preds, squared=False))\n",
    "print(mae(y_train, y_train_preds))\n",
    "accuracy_score(y_train, y_train_preds.round())"
   ]
  },
  {
   "cell_type": "code",
   "execution_count": 125,
   "metadata": {},
   "outputs": [
    {
     "data": {
      "text/plain": [
       "array([[   5, 1069],\n",
       "       [   4, 5322]])"
      ]
     },
     "execution_count": 125,
     "metadata": {},
     "output_type": "execute_result"
    }
   ],
   "source": [
    "#Train confusion matrix\n",
    "confusion_matrix(y_train, y_train_preds.round())"
   ]
  },
  {
   "cell_type": "code",
   "execution_count": 126,
   "metadata": {},
   "outputs": [
    {
     "name": "stdout",
     "output_type": "stream",
     "text": [
      "0.3548456446123101\n",
      "0.2601613168330067\n"
     ]
    },
    {
     "data": {
      "text/plain": [
       "0.838125"
      ]
     },
     "execution_count": 126,
     "metadata": {},
     "output_type": "execute_result"
    }
   ],
   "source": [
    "#Validation set scores\n",
    "y_val_prediction = model.predict(X_val)\n",
    "print(mse(y_val, y_val_preds, squared=False))\n",
    "print(mae(y_val, y_val_preds))\n",
    "accuracy_score(y_val, y_val_preds.round())"
   ]
  },
  {
   "cell_type": "code",
   "execution_count": 127,
   "metadata": {},
   "outputs": [
    {
     "data": {
      "text/plain": [
       "array([[   0,  257],\n",
       "       [   2, 1341]])"
      ]
     },
     "execution_count": 127,
     "metadata": {},
     "output_type": "execute_result"
    }
   ],
   "source": [
    "#Validation confusion matrix\n",
    "confusion_matrix(y_val, y_val_prediction.round())"
   ]
  },
  {
   "cell_type": "code",
   "execution_count": 128,
   "metadata": {},
   "outputs": [],
   "source": [
    "#Output predictions\n",
    "X_test = df_test\n",
    "y_test_preds = model.predict(X_test)"
   ]
  },
  {
   "cell_type": "code",
   "execution_count": 129,
   "metadata": {},
   "outputs": [
    {
     "data": {
      "text/plain": [
       "3799"
      ]
     },
     "execution_count": 129,
     "metadata": {},
     "output_type": "execute_result"
    }
   ],
   "source": [
    "y_test_preds.size"
   ]
  },
  {
   "cell_type": "code",
   "execution_count": 130,
   "metadata": {},
   "outputs": [],
   "source": [
    "y_test_preds = np.clip(y_test_preds, a_min=0, a_max=1)"
   ]
  },
  {
   "cell_type": "code",
   "execution_count": 131,
   "metadata": {},
   "outputs": [],
   "source": [
    "output = pd.DataFrame({'Id': range(0,3799), 'TARGET_5Yrs': [p for p in y_test_preds]})"
   ]
  },
  {
   "cell_type": "code",
   "execution_count": 132,
   "metadata": {},
   "outputs": [],
   "source": [
    "output.to_csv(\"../reports/dt_submission_lasso_01.csv\", index=False)"
   ]
  }
 ],
 "metadata": {
  "kernelspec": {
   "display_name": "Python 3",
   "language": "python",
   "name": "python3"
  },
  "language_info": {
   "codemirror_mode": {
    "name": "ipython",
    "version": 3
   },
   "file_extension": ".py",
   "mimetype": "text/x-python",
   "name": "python",
   "nbconvert_exporter": "python",
   "pygments_lexer": "ipython3",
   "version": "3.7.6"
  }
 },
 "nbformat": 4,
 "nbformat_minor": 4
}
