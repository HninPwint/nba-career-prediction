{
 "cells": [
  {
   "cell_type": "markdown",
   "metadata": {},
   "source": [
    "# **SVC**"
   ]
  },
  {
   "cell_type": "code",
   "execution_count": 1,
   "metadata": {},
   "outputs": [],
   "source": [
    "experiment_label = 'SVC05_abs_c300'"
   ]
  },
  {
   "cell_type": "code",
   "execution_count": 2,
   "metadata": {},
   "outputs": [],
   "source": [
    "user_label = 'tay_donovan'"
   ]
  },
  {
   "cell_type": "markdown",
   "metadata": {},
   "source": [
    "## **Aim**"
   ]
  },
  {
   "cell_type": "markdown",
   "metadata": {},
   "source": [
    "Look for performance improvement in SVC model:\n",
    "1. Absolute values for negative values\n",
    "2. Boost gridsearchCV to 300"
   ]
  },
  {
   "cell_type": "markdown",
   "metadata": {},
   "source": [
    "## **Findings**\n",
    "\n",
    "First pass GridsearchCV - {'C': 100, 'degree': 3, 'gamma': 0.0001, 'kernel': 'rbf'}\n",
    "\n",
    "Final: {'C': 300, 'degree': 3, 'gamma': 1e-05, 'kernel': 'rbf'}\n"
   ]
  },
  {
   "cell_type": "code",
   "execution_count": 3,
   "metadata": {},
   "outputs": [],
   "source": [
    "#Initial imports\n",
    "import pandas as pd\n",
    "import numpy as np\n",
    "import seaborn as sb\n",
    "import matplotlib.pyplot as plt\n",
    "import os\n",
    "import sys\n",
    "sys.path.append(os.path.abspath('..'))\n",
    "from src.common_lib import DataReader, NBARawData\n",
    "from sklearn.svm import SVC"
   ]
  },
  {
   "cell_type": "markdown",
   "metadata": {},
   "source": [
    "## **Data input and cleansing**"
   ]
  },
  {
   "cell_type": "code",
   "execution_count": 4,
   "metadata": {},
   "outputs": [],
   "source": [
    "#Load dataset using common function DataReader.read_data()\n",
    "data_reader = DataReader()\n",
    "# Load Raw Train Data\n",
    "df_train = data_reader.read_data(NBARawData.TRAIN)\n",
    "# Load Test Raw Data\n",
    "df_test = data_reader.read_data(NBARawData.TEST)"
   ]
  },
  {
   "cell_type": "code",
   "execution_count": 5,
   "metadata": {},
   "outputs": [
    {
     "data": {
      "text/plain": [
       "<bound method NDFrame.describe of       GP   MIN   PTS  FGM  FGA   FG%  3P Made  3PA   3P%  FTM  FTA   FT%  \\\n",
       "0     80  24.3   7.8  3.0  6.4  45.7      0.1  0.3  22.6  2.0  2.9  72.1   \n",
       "1     75  21.8  10.5  4.2  7.9  55.1     -0.3 -1.0  34.9  2.4  3.6  67.8   \n",
       "2     85  19.1   4.5  1.9  4.5  42.8      0.4  1.2  34.3  0.4  0.6  75.7   \n",
       "3     63  19.1   8.2  3.5  6.7  52.5      0.3  0.8  23.7  0.9  1.5  66.9   \n",
       "4     63  17.8   3.7  1.7  3.4  50.8      0.5  1.4  13.7  0.2  0.5  54.0   \n",
       "...   ..   ...   ...  ...  ...   ...      ...  ...   ...  ...  ...   ...   \n",
       "7995  32   9.2   1.8  0.7  1.8  40.3     -0.1 -0.2  23.1  0.4  0.6  65.7   \n",
       "7996  54   6.0   1.8  0.7  1.4  48.7      0.1  0.1   3.1  0.2  0.4  70.1   \n",
       "7997  85  28.2  10.7  4.0  9.0  45.1      0.2  0.6  23.6  2.8  3.9  69.7   \n",
       "7998  39   7.7   2.5  1.0  2.3  40.1     -0.3 -0.5  13.3  0.6  0.7  74.3   \n",
       "7999  49  19.2   4.8  1.7  5.1  32.6      0.7  2.4  41.3  0.8  1.3  70.1   \n",
       "\n",
       "      OREB  DREB  REB  AST  STL  BLK  TOV  TARGET_5Yrs  \n",
       "0      2.2   2.0  3.8  3.2  1.1  0.2  1.6            1  \n",
       "1      3.6   3.7  6.6  0.7  0.5  0.6  1.4            1  \n",
       "2      0.6   1.8  2.4  0.8  0.4  0.2  0.6            1  \n",
       "3      0.8   2.0  3.0  1.8  0.4  0.1  1.9            1  \n",
       "4      2.4   2.7  4.9  0.4  0.4  0.6  0.7            1  \n",
       "...    ...   ...  ...  ...  ...  ...  ...          ...  \n",
       "7995   0.3   1.8  1.9  0.5  0.3  0.2  0.4            1  \n",
       "7996   1.0   1.1  2.0  0.1  0.0  0.3  0.3            1  \n",
       "7997   1.0   2.1  3.1  3.4  1.2  0.2  1.8            1  \n",
       "7998   0.4   0.6  0.9  0.2  0.3  0.3  0.5            1  \n",
       "7999   0.1   1.1  1.2  3.5  0.9 -0.3  1.4            1  \n",
       "\n",
       "[8000 rows x 20 columns]>"
      ]
     },
     "execution_count": 5,
     "metadata": {},
     "output_type": "execute_result"
    }
   ],
   "source": [
    "#For train dataframe, remove redundant column 'Id_old'\n",
    "cols_drop = [\"Id\", \"Id_old\"]\n",
    "df_train.drop(cols_drop, axis=1, inplace=True)\n",
    "df_train.columns = df_train.columns.str.strip()\n",
    "df_train.describe"
   ]
  },
  {
   "cell_type": "code",
   "execution_count": 6,
   "metadata": {},
   "outputs": [
    {
     "data": {
      "text/plain": [
       "<bound method NDFrame.describe of       GP   MIN   PTS  FGM   FGA   FG%  3P Made  3PA   3P%  FTM  FTA   FT%  \\\n",
       "0     56   9.1   4.0  1.6   3.7  43.7      0.1  0.3   7.3  0.7  1.2  63.4   \n",
       "1     43  19.3  10.1  3.7   8.1  46.0      0.6  1.7  35.1  1.8  2.5  75.3   \n",
       "2     82  33.9  11.3  4.9  10.6  45.6      0.5  1.9  44.8  1.8  2.7  71.2   \n",
       "3     86  44.7  18.8  6.8  15.9  42.9      0.5  1.8  13.5  4.5  6.3  70.9   \n",
       "4     58  12.3   4.7  1.6   4.0  40.0      0.5  1.7  38.7  1.1  1.3  76.9   \n",
       "...   ..   ...   ...  ...   ...   ...      ...  ...   ...  ...  ...   ...   \n",
       "3794  84  21.2   8.7  3.4   6.7  50.2      0.0  0.0  -4.5  1.7  2.5  68.1   \n",
       "3795  49  16.3   6.4  2.9   6.6  44.4     -0.1 -0.4  19.8  1.0  1.9  50.2   \n",
       "3796  53   9.9   2.1  0.8   1.8  43.1     -0.4 -0.6   1.9  0.6  1.0  63.9   \n",
       "3797  89  38.3  14.5  5.4  11.8  45.2      0.5  1.2  24.7  2.5  2.9  89.2   \n",
       "3798  55  12.0   3.0  1.1   2.5  42.3      0.1  0.6  11.7  0.9  1.1  76.7   \n",
       "\n",
       "      OREB  DREB  REB  AST  STL  BLK  TOV  \n",
       "0      1.2   0.8  1.7  0.4  0.2  0.3  0.8  \n",
       "1      0.5   0.9  1.5  3.5  0.6  0.0  1.8  \n",
       "2      1.3   3.3  4.5  2.5  1.3  0.3  2.0  \n",
       "3      1.5   3.2  5.0  4.1  0.9  0.1  3.6  \n",
       "4      0.2   0.6  0.9  1.5  0.5 -0.4  0.9  \n",
       "...    ...   ...  ...  ...  ...  ...  ...  \n",
       "3794   1.9   2.3  3.9  1.5  0.6  0.3  2.0  \n",
       "3795   1.7   2.8  4.4  0.4  0.4  0.4  0.7  \n",
       "3796   0.7   1.0  1.7  0.4  0.4  0.2  0.5  \n",
       "3797   1.5   4.0  5.5  3.7  1.3  0.3  2.4  \n",
       "3798   0.7   2.0  2.6  0.6  0.3  0.2  1.2  \n",
       "\n",
       "[3799 rows x 19 columns]>"
      ]
     },
     "execution_count": 6,
     "metadata": {},
     "output_type": "execute_result"
    }
   ],
   "source": [
    "#For test dataframe, remove redundant column 'Id_old'\n",
    "df_test.drop(cols_drop, axis=1, inplace=True)\n",
    "df_test.columns = df_test.columns.str.strip()\n",
    "df_test.describe"
   ]
  },
  {
   "cell_type": "markdown",
   "metadata": {},
   "source": [
    "## **Negative values in dataset**"
   ]
  },
  {
   "cell_type": "code",
   "execution_count": 7,
   "metadata": {},
   "outputs": [
    {
     "name": "stdout",
     "output_type": "stream",
     "text": [
      "GP                2\n",
      "MIN               0\n",
      "PTS               0\n",
      "FGM               0\n",
      "FGA               0\n",
      "FG%               0\n",
      "3P Made        1629\n",
      "3PA            1658\n",
      "3P%             878\n",
      "FTM               0\n",
      "FTA               0\n",
      "FT%               1\n",
      "OREB              0\n",
      "DREB              0\n",
      "REB               0\n",
      "AST               0\n",
      "STL               0\n",
      "BLK            1048\n",
      "TOV               0\n",
      "TARGET_5Yrs       0\n",
      "dtype: int64\n"
     ]
    }
   ],
   "source": [
    "print(df_train.where(df_train < 0).count())"
   ]
  },
  {
   "cell_type": "code",
   "execution_count": 8,
   "metadata": {},
   "outputs": [],
   "source": [
    "# Negative values do not make sense in this context\n",
    "#Define negative cleaning function\n",
    "def clean_negatives(strategy, df):\n",
    "    \n",
    "    if strategy=='abs':\n",
    "        df = abs(df)\n",
    "    if strategy=='null':\n",
    "        df[df < 0] = 0\n",
    "    if strategy=='mean':\n",
    "        df[df < 0] = None\n",
    "        df.fillna(df.mean(), inplace=True)      \n",
    "    \n",
    "    return(df)"
   ]
  },
  {
   "cell_type": "code",
   "execution_count": 9,
   "metadata": {},
   "outputs": [],
   "source": [
    "#Clean negative numbers\n",
    "negatives_strategy = 'abs'\n",
    "\n",
    "df_train = clean_negatives(negatives_strategy, df_train)\n",
    "df_test = clean_negatives(negatives_strategy, df_test)"
   ]
  },
  {
   "cell_type": "code",
   "execution_count": 10,
   "metadata": {},
   "outputs": [],
   "source": [
    "# Split the training dataset using common function data_reader.splitdata\n",
    "X_train, X_val, y_train, y_val  = data_reader.split_data(df_train)\n",
    "#X_train, X_val, y_train, y_val  = data_reader.split_data(df_train_scaled)"
   ]
  },
  {
   "cell_type": "markdown",
   "metadata": {},
   "source": [
    "## **Model Selection and Training**"
   ]
  },
  {
   "cell_type": "code",
   "execution_count": 11,
   "metadata": {},
   "outputs": [],
   "source": [
    "#Create Optimised Model\n",
    "optmodel = SVC()"
   ]
  },
  {
   "cell_type": "code",
   "execution_count": 12,
   "metadata": {
    "scrolled": true
   },
   "outputs": [
    {
     "name": "stdout",
     "output_type": "stream",
     "text": [
      "Fitting 5 folds for each of 9 candidates, totalling 45 fits\n"
     ]
    },
    {
     "name": "stderr",
     "output_type": "stream",
     "text": [
      "[Parallel(n_jobs=-2)]: Using backend LokyBackend with 11 concurrent workers.\n",
      "[Parallel(n_jobs=-2)]: Done  10 tasks      | elapsed:   32.0s\n",
      "[Parallel(n_jobs=-2)]: Done  40 out of  45 | elapsed:  3.0min remaining:   22.3s\n",
      "[Parallel(n_jobs=-2)]: Done  45 out of  45 | elapsed:  3.6min finished\n"
     ]
    },
    {
     "data": {
      "text/plain": [
       "GridSearchCV(estimator=SVC(probability=True), n_jobs=-2,\n",
       "             param_grid={'C': [50, 100, 300], 'degree': [3],\n",
       "                         'gamma': [0.001, 0.0001, 1e-05], 'kernel': ['rbf']},\n",
       "             scoring='roc_auc', verbose=3)"
      ]
     },
     "execution_count": 12,
     "metadata": {},
     "output_type": "execute_result"
    }
   ],
   "source": [
    "#Use GridSearchCV to optimise parameters\n",
    "from sklearn.model_selection import GridSearchCV \n",
    "  \n",
    "# defining parameter range \n",
    "param_grid = {'C': [50, 100, 300],  \n",
    "              'gamma': [0.001, 0.0001, 0.00001], \n",
    "              'kernel': ['rbf'],\n",
    "              'degree': [3]           \n",
    "             } \n",
    "  \n",
    "grid = GridSearchCV(SVC(probability=True), param_grid, refit = True, verbose = 3, scoring=\"roc_auc\", n_jobs=-2) \n",
    "  \n",
    "# fitting the model for grid search \n",
    "grid.fit(X_train, y_train) "
   ]
  },
  {
   "cell_type": "code",
   "execution_count": 13,
   "metadata": {},
   "outputs": [
    {
     "name": "stdout",
     "output_type": "stream",
     "text": [
      "{'C': 300, 'degree': 3, 'gamma': 1e-05, 'kernel': 'rbf'}\n"
     ]
    }
   ],
   "source": [
    "#Print the optimised parameters\n",
    "print(grid.best_params_) "
   ]
  },
  {
   "cell_type": "code",
   "execution_count": 14,
   "metadata": {
    "scrolled": true
   },
   "outputs": [],
   "source": [
    "#Create model with the optimised parameters\n",
    "model = SVC(C=300, break_ties=False, class_weight='balanced', coef0=0.0,\n",
    "                           decision_function_shape='ovr', degree=3,\n",
    "                           gamma=0.0001, kernel='rbf', max_iter=-1,\n",
    "                           probability=True, random_state=None, shrinking=True,\n",
    "                           tol=0.001, verbose=False)"
   ]
  },
  {
   "cell_type": "code",
   "execution_count": 15,
   "metadata": {},
   "outputs": [],
   "source": [
    "model.fit(X_train, y_train);"
   ]
  },
  {
   "cell_type": "code",
   "execution_count": 16,
   "metadata": {},
   "outputs": [
    {
     "data": {
      "text/plain": [
       "['../models/SVC05_abs_c300.joblib']"
      ]
     },
     "execution_count": 16,
     "metadata": {},
     "output_type": "execute_result"
    }
   ],
   "source": [
    "#Store model in /models\n",
    "from joblib import dump\n",
    "dump(model, '../models/' + experiment_label + '.joblib')"
   ]
  },
  {
   "cell_type": "markdown",
   "metadata": {},
   "source": [
    "## **Model Evaluation**"
   ]
  },
  {
   "cell_type": "code",
   "execution_count": 17,
   "metadata": {},
   "outputs": [],
   "source": [
    "#Create predictions for train and validation\n",
    "y_train_preds = model.predict(X_train)\n",
    "y_val_preds = model.predict(X_val)"
   ]
  },
  {
   "cell_type": "code",
   "execution_count": 18,
   "metadata": {},
   "outputs": [],
   "source": [
    "#Evaluate train predictions\n",
    "#from src.models.aj_metrics import confusion_matrix\n",
    "from sklearn.metrics import roc_auc_score\n",
    "from sklearn.metrics import plot_roc_curve, plot_precision_recall_curve\n",
    "from sklearn.metrics import classification_report\n",
    "sys.path.append(os.path.abspath('..'))\n",
    "from src.models.aj_metrics import confusion_matrix"
   ]
  },
  {
   "cell_type": "code",
   "execution_count": 19,
   "metadata": {},
   "outputs": [
    {
     "data": {
      "text/plain": [
       "array([0, 1, 0, ..., 0, 1, 1], dtype=int64)"
      ]
     },
     "execution_count": 19,
     "metadata": {},
     "output_type": "execute_result"
    }
   ],
   "source": [
    "y_train_preds"
   ]
  },
  {
   "cell_type": "code",
   "execution_count": 20,
   "metadata": {},
   "outputs": [
    {
     "name": "stdout",
     "output_type": "stream",
     "text": [
      "ROC AUC Score:\n",
      "0.656475978492774\n",
      "              precision    recall  f1-score   support\n",
      "\n",
      "           0       0.27      0.71      0.39      1074\n",
      "           1       0.91      0.60      0.73      5326\n",
      "\n",
      "    accuracy                           0.62      6400\n",
      "   macro avg       0.59      0.66      0.56      6400\n",
      "weighted avg       0.80      0.62      0.67      6400\n",
      "\n"
     ]
    }
   ],
   "source": [
    "#Training performance results\n",
    "print(\"ROC AUC Score:\")\n",
    "print(roc_auc_score(y_train,y_train_preds))\n",
    "print(classification_report(y_train, y_train_preds)) "
   ]
  },
  {
   "cell_type": "code",
   "execution_count": 21,
   "metadata": {},
   "outputs": [
    {
     "name": "stdout",
     "output_type": "stream",
     "text": [
      "        pred:0  pred:1\n",
      "true:0     762     312\n",
      "true:1    2112    3214\n"
     ]
    }
   ],
   "source": [
    "#Confusion matrix\n",
    "print(confusion_matrix(y_train, y_train_preds))"
   ]
  },
  {
   "cell_type": "code",
   "execution_count": 22,
   "metadata": {},
   "outputs": [
    {
     "data": {
      "text/plain": [
       "<sklearn.metrics._plot.roc_curve.RocCurveDisplay at 0x2122540d9a0>"
      ]
     },
     "execution_count": 22,
     "metadata": {},
     "output_type": "execute_result"
    },
    {
     "data": {
      "image/png": "[encoded data removed]",
      "text/plain": [
       "<Figure size 432x288 with 1 Axes>"
      ]
     },
     "metadata": {
      "needs_background": "light"
     },
     "output_type": "display_data"
    }
   ],
   "source": [
    "#ROC Curve\n",
    "plot_roc_curve(model,X_train, y_train)"
   ]
  },
  {
   "cell_type": "code",
   "execution_count": 23,
   "metadata": {},
   "outputs": [
    {
     "data": {
      "text/plain": [
       "<sklearn.metrics._plot.precision_recall_curve.PrecisionRecallDisplay at 0x2121fb40550>"
      ]
     },
     "execution_count": 23,
     "metadata": {},
     "output_type": "execute_result"
    },
    {
     "data": {
      "image/png": "[encoded data removed]",
      "text/plain": [
       "<Figure size 432x288 with 1 Axes>"
      ]
     },
     "metadata": {
      "needs_background": "light"
     },
     "output_type": "display_data"
    }
   ],
   "source": [
    "#Precision Recall Curve\n",
    "plot_precision_recall_curve(model,X_train,y_train)"
   ]
  },
  {
   "cell_type": "code",
   "execution_count": 24,
   "metadata": {},
   "outputs": [
    {
     "name": "stdout",
     "output_type": "stream",
     "text": [
      "ROC AUC Score:\n",
      "0.6485755509907257\n",
      "Confusion Matrix:\n",
      "              precision    recall  f1-score   support\n",
      "\n",
      "           0       0.25      0.71      0.37       257\n",
      "           1       0.91      0.59      0.72      1343\n",
      "\n",
      "    accuracy                           0.61      1600\n",
      "   macro avg       0.58      0.65      0.54      1600\n",
      "weighted avg       0.81      0.61      0.66      1600\n",
      "\n"
     ]
    }
   ],
   "source": [
    "#Validation performance analysis\n",
    "print(\"ROC AUC Score:\")\n",
    "print(roc_auc_score(y_val,y_val_preds))\n",
    "print(\"Confusion Matrix:\")\n",
    "print(classification_report(y_val, y_val_preds)) "
   ]
  },
  {
   "cell_type": "code",
   "execution_count": 25,
   "metadata": {},
   "outputs": [
    {
     "name": "stdout",
     "output_type": "stream",
     "text": [
      "        pred:0  pred:1\n",
      "true:0     762     312\n",
      "true:1    2112    3214\n"
     ]
    }
   ],
   "source": [
    "#Confusion matrix\n",
    "print(confusion_matrix(y_train, y_train_preds))"
   ]
  },
  {
   "cell_type": "code",
   "execution_count": 26,
   "metadata": {},
   "outputs": [
    {
     "data": {
      "text/plain": [
       "<sklearn.metrics._plot.roc_curve.RocCurveDisplay at 0x212250f5b50>"
      ]
     },
     "execution_count": 26,
     "metadata": {},
     "output_type": "execute_result"
    },
    {
     "data": {
      "image/png": "[encoded data removed]",
      "text/plain": [
       "<Figure size 432x288 with 1 Axes>"
      ]
     },
     "metadata": {
      "needs_background": "light"
     },
     "output_type": "display_data"
    }
   ],
   "source": [
    "#ROC Curve\n",
    "plot_roc_curve(model,X_val, y_val)"
   ]
  },
  {
   "cell_type": "code",
   "execution_count": 27,
   "metadata": {},
   "outputs": [
    {
     "data": {
      "text/plain": [
       "<sklearn.metrics._plot.precision_recall_curve.PrecisionRecallDisplay at 0x2122e427e50>"
      ]
     },
     "execution_count": 27,
     "metadata": {},
     "output_type": "execute_result"
    },
    {
     "data": {
      "image/png": "[encoded data removed]",
      "text/plain": [
       "<Figure size 432x288 with 1 Axes>"
      ]
     },
     "metadata": {
      "needs_background": "light"
     },
     "output_type": "display_data"
    }
   ],
   "source": [
    "#Precision Recall Curve\n",
    "plot_precision_recall_curve(model,X_train,y_train)"
   ]
  },
  {
   "cell_type": "markdown",
   "metadata": {},
   "source": [
    "## **Test output**"
   ]
  },
  {
   "cell_type": "code",
   "execution_count": 28,
   "metadata": {},
   "outputs": [],
   "source": [
    "#Output predictions\n",
    "X_test = df_test\n",
    "y_test_preds = model.predict_proba(X_test)[:,1]"
   ]
  },
  {
   "cell_type": "code",
   "execution_count": 29,
   "metadata": {},
   "outputs": [
    {
     "data": {
      "text/plain": [
       "array([0.78303709, 0.78964256, 0.92950243, ..., 0.76534518, 0.91510372,\n",
       "       0.78380661])"
      ]
     },
     "execution_count": 29,
     "metadata": {},
     "output_type": "execute_result"
    }
   ],
   "source": [
    "y_test_preds"
   ]
  },
  {
   "cell_type": "code",
   "execution_count": 30,
   "metadata": {},
   "outputs": [],
   "source": [
    "output = pd.DataFrame({'Id': range(0,3799), 'TARGET_5Yrs': [p for p in y_test_preds]})"
   ]
  },
  {
   "cell_type": "code",
   "execution_count": 31,
   "metadata": {},
   "outputs": [],
   "source": [
    "output.to_csv(\"../reports/\" + user_label + \"_submission_\" + experiment_label + \".csv\", index=False)"
   ]
  },
  {
   "cell_type": "markdown",
   "metadata": {},
   "source": [
    "## **Outcome**"
   ]
  },
  {
   "cell_type": "markdown",
   "metadata": {},
   "source": [
    "After outputting the predictions into kaggle, the final score was 0.70900"
   ]
  }
 ],
 "metadata": {
  "kernelspec": {
   "display_name": "Python 3",
   "language": "python",
   "name": "python3"
  },
  "language_info": {
   "codemirror_mode": {
    "name": "ipython",
    "version": 3
   },
   "file_extension": ".py",
   "mimetype": "text/x-python",
   "name": "python",
   "nbconvert_exporter": "python",
   "pygments_lexer": "ipython3",
   "version": "3.8.5"
  }
 },
 "nbformat": 4,
 "nbformat_minor": 4
}
