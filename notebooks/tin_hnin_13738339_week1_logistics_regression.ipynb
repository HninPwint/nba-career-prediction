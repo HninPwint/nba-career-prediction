{
 "cells": [
  {
   "cell_type": "markdown",
   "metadata": {},
   "source": [
    "### Introduction"
   ]
  },
  {
   "cell_type": "markdown",
   "metadata": {},
   "source": [
    "This notebook is an experiment of building a model that will predict if a rookie player will last at least 5 years in the league based on his stats.\n",
    "\n",
    "In the National Basketball Association (NBA), a rookie is any player who has never played a game in the NBA until that year. At the end of the season the NBA awards the best rookie with the NBA Rookie of the Year Award.\n",
    "\n",
    "Moving to the NBA league is a big deal for any basketball player. Sport commentators and fans are very excited to follow the start of their careers and guess how they will perform in the future.\n",
    "\n",
    "In this experiment, LogisticRegression model is used."
   ]
  },
  {
   "cell_type": "markdown",
   "metadata": {},
   "source": [
    "### Import the libraries"
   ]
  },
  {
   "cell_type": "code",
<<<<<<< HEAD
   "execution_count": 49,
=======
   "execution_count": 1,
>>>>>>> 6599dad81d15a0482ccde8db448d4d7c440d7ee8
   "metadata": {},
   "outputs": [],
   "source": [
    "import pandas as pd\n",
    "import numpy as np\n",
    "\n",
    "from sklearn.preprocessing import StandardScaler, PolynomialFeatures\n",
    "import os\n",
    "import sys\n",
    "sys.path.append(os.path.abspath('..'))\n",
    "from src.common_lib import DataReader, NBARawData\n",
    "\n",
    "from sklearn.linear_model import LogisticRegression \n",
    "from sklearn.metrics import accuracy_score"
   ]
  },
  {
   "cell_type": "markdown",
   "metadata": {},
   "source": [
    "### Load the data"
   ]
  },
  {
   "cell_type": "code",
<<<<<<< HEAD
   "execution_count": 50,
=======
   "execution_count": 2,
>>>>>>> 6599dad81d15a0482ccde8db448d4d7c440d7ee8
   "metadata": {},
   "outputs": [],
   "source": [
    "# Instantiate the custom data reader class\n",
    "data_reader = DataReader()\n",
    "\n",
    "# Load Raw Train Data\n",
    "train_df = data_reader.read_data(NBARawData.TRAIN)\n",
    "\n",
    "# Load Test Raw Data\n",
    "test_df = data_reader.read_data(NBARawData.TEST)"
   ]
  },
  {
   "cell_type": "markdown",
   "metadata": {},
   "source": [
    "### Feature Selection"
   ]
  },
  {
   "cell_type": "code",
<<<<<<< HEAD
   "execution_count": 51,
   "metadata": {},
   "outputs": [
    {
     "data": {
      "image/png": "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\n",
      "text/plain": [
       "<Figure size 432x288 with 2 Axes>"
      ]
     },
     "metadata": {
      "needs_background": "light"
     },
     "output_type": "display_data"
    }
   ],
   "source": [
    "# Invoke the common function to do feature selection by correlation, Please run only once\n",
    "# Features with corr > 0.9 are removed\n",
    "selected_features = data_reader.select_feature_by_correlation(train_df)"
   ]
  },
  {
   "cell_type": "code",
   "execution_count": 52,
=======
   "execution_count": 3,
>>>>>>> 6599dad81d15a0482ccde8db448d4d7c440d7ee8
   "metadata": {},
   "outputs": [
    {
     "ename": "KeyError",
     "evalue": "\"['Id' 'Id_old' 'MIN' 'FGM' 'FGA' 'TOV' '3PA' 'FTM' 'FTA' 'REB'] not found in axis\"",
     "output_type": "error",
     "traceback": [
      "\u001b[0;31m\u001b[0m",
      "\u001b[0;31mKeyError\u001b[0mTraceback (most recent call last)",
      "\u001b[0;32m<ipython-input-3-ad558b19e969>\u001b[0m in \u001b[0;36m<module>\u001b[0;34m\u001b[0m\n\u001b[1;32m      3\u001b[0m \u001b[0;34m\u001b[0m\u001b[0m\n\u001b[1;32m      4\u001b[0m \u001b[0mcols_drop\u001b[0m \u001b[0;34m=\u001b[0m \u001b[0;34m[\u001b[0m\u001b[0;34m\"Id\"\u001b[0m\u001b[0;34m,\u001b[0m \u001b[0;34m\"Id_old\"\u001b[0m\u001b[0;34m,\u001b[0m \u001b[0;34m\"MIN\"\u001b[0m\u001b[0;34m,\u001b[0m \u001b[0;34m\"FGM\"\u001b[0m\u001b[0;34m,\u001b[0m \u001b[0;34m\"FGA\"\u001b[0m\u001b[0;34m,\u001b[0m \u001b[0;34m'TOV'\u001b[0m\u001b[0;34m,\u001b[0m \u001b[0;34m'3PA'\u001b[0m\u001b[0;34m,\u001b[0m \u001b[0;34m'FTM'\u001b[0m\u001b[0;34m,\u001b[0m \u001b[0;34m'FTA'\u001b[0m\u001b[0;34m,\u001b[0m \u001b[0;34m'REB'\u001b[0m\u001b[0;34m]\u001b[0m\u001b[0;34m\u001b[0m\u001b[0;34m\u001b[0m\u001b[0m\n\u001b[0;32m----> 5\u001b[0;31m \u001b[0mdf\u001b[0m\u001b[0;34m.\u001b[0m\u001b[0mdrop\u001b[0m\u001b[0;34m(\u001b[0m\u001b[0mcols_drop\u001b[0m\u001b[0;34m,\u001b[0m \u001b[0maxis\u001b[0m\u001b[0;34m=\u001b[0m\u001b[0;36m1\u001b[0m\u001b[0;34m,\u001b[0m \u001b[0minplace\u001b[0m\u001b[0;34m=\u001b[0m\u001b[0;32mTrue\u001b[0m\u001b[0;34m)\u001b[0m\u001b[0;34m\u001b[0m\u001b[0;34m\u001b[0m\u001b[0m\n\u001b[0m\u001b[1;32m      6\u001b[0m \u001b[0mtest_df\u001b[0m\u001b[0;34m.\u001b[0m\u001b[0mdrop\u001b[0m\u001b[0;34m(\u001b[0m\u001b[0mcols_drop\u001b[0m\u001b[0;34m,\u001b[0m \u001b[0maxis\u001b[0m\u001b[0;34m=\u001b[0m\u001b[0;36m1\u001b[0m\u001b[0;34m,\u001b[0m \u001b[0minplace\u001b[0m\u001b[0;34m=\u001b[0m\u001b[0;32mTrue\u001b[0m\u001b[0;34m)\u001b[0m\u001b[0;34m\u001b[0m\u001b[0;34m\u001b[0m\u001b[0m\n\u001b[1;32m      7\u001b[0m \u001b[0;34m\u001b[0m\u001b[0m\n",
      "\u001b[0;32m/opt/conda/lib/python3.7/site-packages/pandas/core/frame.py\u001b[0m in \u001b[0;36mdrop\u001b[0;34m(self, labels, axis, index, columns, level, inplace, errors)\u001b[0m\n\u001b[1;32m   4115\u001b[0m             \u001b[0mlevel\u001b[0m\u001b[0;34m=\u001b[0m\u001b[0mlevel\u001b[0m\u001b[0;34m,\u001b[0m\u001b[0;34m\u001b[0m\u001b[0;34m\u001b[0m\u001b[0m\n\u001b[1;32m   4116\u001b[0m             \u001b[0minplace\u001b[0m\u001b[0;34m=\u001b[0m\u001b[0minplace\u001b[0m\u001b[0;34m,\u001b[0m\u001b[0;34m\u001b[0m\u001b[0;34m\u001b[0m\u001b[0m\n\u001b[0;32m-> 4117\u001b[0;31m             \u001b[0merrors\u001b[0m\u001b[0;34m=\u001b[0m\u001b[0merrors\u001b[0m\u001b[0;34m,\u001b[0m\u001b[0;34m\u001b[0m\u001b[0;34m\u001b[0m\u001b[0m\n\u001b[0m\u001b[1;32m   4118\u001b[0m         )\n\u001b[1;32m   4119\u001b[0m \u001b[0;34m\u001b[0m\u001b[0m\n",
      "\u001b[0;32m/opt/conda/lib/python3.7/site-packages/pandas/core/generic.py\u001b[0m in \u001b[0;36mdrop\u001b[0;34m(self, labels, axis, index, columns, level, inplace, errors)\u001b[0m\n\u001b[1;32m   3912\u001b[0m         \u001b[0;32mfor\u001b[0m \u001b[0maxis\u001b[0m\u001b[0;34m,\u001b[0m \u001b[0mlabels\u001b[0m \u001b[0;32min\u001b[0m \u001b[0maxes\u001b[0m\u001b[0;34m.\u001b[0m\u001b[0mitems\u001b[0m\u001b[0;34m(\u001b[0m\u001b[0;34m)\u001b[0m\u001b[0;34m:\u001b[0m\u001b[0;34m\u001b[0m\u001b[0;34m\u001b[0m\u001b[0m\n\u001b[1;32m   3913\u001b[0m             \u001b[0;32mif\u001b[0m \u001b[0mlabels\u001b[0m \u001b[0;32mis\u001b[0m \u001b[0;32mnot\u001b[0m \u001b[0;32mNone\u001b[0m\u001b[0;34m:\u001b[0m\u001b[0;34m\u001b[0m\u001b[0;34m\u001b[0m\u001b[0m\n\u001b[0;32m-> 3914\u001b[0;31m                 \u001b[0mobj\u001b[0m \u001b[0;34m=\u001b[0m \u001b[0mobj\u001b[0m\u001b[0;34m.\u001b[0m\u001b[0m_drop_axis\u001b[0m\u001b[0;34m(\u001b[0m\u001b[0mlabels\u001b[0m\u001b[0;34m,\u001b[0m \u001b[0maxis\u001b[0m\u001b[0;34m,\u001b[0m \u001b[0mlevel\u001b[0m\u001b[0;34m=\u001b[0m\u001b[0mlevel\u001b[0m\u001b[0;34m,\u001b[0m \u001b[0merrors\u001b[0m\u001b[0;34m=\u001b[0m\u001b[0merrors\u001b[0m\u001b[0;34m)\u001b[0m\u001b[0;34m\u001b[0m\u001b[0;34m\u001b[0m\u001b[0m\n\u001b[0m\u001b[1;32m   3915\u001b[0m \u001b[0;34m\u001b[0m\u001b[0m\n\u001b[1;32m   3916\u001b[0m         \u001b[0;32mif\u001b[0m \u001b[0minplace\u001b[0m\u001b[0;34m:\u001b[0m\u001b[0;34m\u001b[0m\u001b[0;34m\u001b[0m\u001b[0m\n",
      "\u001b[0;32m/opt/conda/lib/python3.7/site-packages/pandas/core/generic.py\u001b[0m in \u001b[0;36m_drop_axis\u001b[0;34m(self, labels, axis, level, errors)\u001b[0m\n\u001b[1;32m   3944\u001b[0m                 \u001b[0mnew_axis\u001b[0m \u001b[0;34m=\u001b[0m \u001b[0maxis\u001b[0m\u001b[0;34m.\u001b[0m\u001b[0mdrop\u001b[0m\u001b[0;34m(\u001b[0m\u001b[0mlabels\u001b[0m\u001b[0;34m,\u001b[0m \u001b[0mlevel\u001b[0m\u001b[0;34m=\u001b[0m\u001b[0mlevel\u001b[0m\u001b[0;34m,\u001b[0m \u001b[0merrors\u001b[0m\u001b[0;34m=\u001b[0m\u001b[0merrors\u001b[0m\u001b[0;34m)\u001b[0m\u001b[0;34m\u001b[0m\u001b[0;34m\u001b[0m\u001b[0m\n\u001b[1;32m   3945\u001b[0m             \u001b[0;32melse\u001b[0m\u001b[0;34m:\u001b[0m\u001b[0;34m\u001b[0m\u001b[0;34m\u001b[0m\u001b[0m\n\u001b[0;32m-> 3946\u001b[0;31m                 \u001b[0mnew_axis\u001b[0m \u001b[0;34m=\u001b[0m \u001b[0maxis\u001b[0m\u001b[0;34m.\u001b[0m\u001b[0mdrop\u001b[0m\u001b[0;34m(\u001b[0m\u001b[0mlabels\u001b[0m\u001b[0;34m,\u001b[0m \u001b[0merrors\u001b[0m\u001b[0;34m=\u001b[0m\u001b[0merrors\u001b[0m\u001b[0;34m)\u001b[0m\u001b[0;34m\u001b[0m\u001b[0;34m\u001b[0m\u001b[0m\n\u001b[0m\u001b[1;32m   3947\u001b[0m             \u001b[0mresult\u001b[0m \u001b[0;34m=\u001b[0m \u001b[0mself\u001b[0m\u001b[0;34m.\u001b[0m\u001b[0mreindex\u001b[0m\u001b[0;34m(\u001b[0m\u001b[0;34m**\u001b[0m\u001b[0;34m{\u001b[0m\u001b[0maxis_name\u001b[0m\u001b[0;34m:\u001b[0m \u001b[0mnew_axis\u001b[0m\u001b[0;34m}\u001b[0m\u001b[0;34m)\u001b[0m\u001b[0;34m\u001b[0m\u001b[0;34m\u001b[0m\u001b[0m\n\u001b[1;32m   3948\u001b[0m \u001b[0;34m\u001b[0m\u001b[0m\n",
      "\u001b[0;32m/opt/conda/lib/python3.7/site-packages/pandas/core/indexes/base.py\u001b[0m in \u001b[0;36mdrop\u001b[0;34m(self, labels, errors)\u001b[0m\n\u001b[1;32m   5338\u001b[0m         \u001b[0;32mif\u001b[0m \u001b[0mmask\u001b[0m\u001b[0;34m.\u001b[0m\u001b[0many\u001b[0m\u001b[0;34m(\u001b[0m\u001b[0;34m)\u001b[0m\u001b[0;34m:\u001b[0m\u001b[0;34m\u001b[0m\u001b[0;34m\u001b[0m\u001b[0m\n\u001b[1;32m   5339\u001b[0m             \u001b[0;32mif\u001b[0m \u001b[0merrors\u001b[0m \u001b[0;34m!=\u001b[0m \u001b[0;34m\"ignore\"\u001b[0m\u001b[0;34m:\u001b[0m\u001b[0;34m\u001b[0m\u001b[0;34m\u001b[0m\u001b[0m\n\u001b[0;32m-> 5340\u001b[0;31m                 \u001b[0;32mraise\u001b[0m \u001b[0mKeyError\u001b[0m\u001b[0;34m(\u001b[0m\u001b[0;34m\"{} not found in axis\"\u001b[0m\u001b[0;34m.\u001b[0m\u001b[0mformat\u001b[0m\u001b[0;34m(\u001b[0m\u001b[0mlabels\u001b[0m\u001b[0;34m[\u001b[0m\u001b[0mmask\u001b[0m\u001b[0;34m]\u001b[0m\u001b[0;34m)\u001b[0m\u001b[0;34m)\u001b[0m\u001b[0;34m\u001b[0m\u001b[0;34m\u001b[0m\u001b[0m\n\u001b[0m\u001b[1;32m   5341\u001b[0m             \u001b[0mindexer\u001b[0m \u001b[0;34m=\u001b[0m \u001b[0mindexer\u001b[0m\u001b[0;34m[\u001b[0m\u001b[0;34m~\u001b[0m\u001b[0mmask\u001b[0m\u001b[0;34m]\u001b[0m\u001b[0;34m\u001b[0m\u001b[0;34m\u001b[0m\u001b[0m\n\u001b[1;32m   5342\u001b[0m         \u001b[0;32mreturn\u001b[0m \u001b[0mself\u001b[0m\u001b[0;34m.\u001b[0m\u001b[0mdelete\u001b[0m\u001b[0;34m(\u001b[0m\u001b[0mindexer\u001b[0m\u001b[0;34m)\u001b[0m\u001b[0;34m\u001b[0m\u001b[0;34m\u001b[0m\u001b[0m\n",
      "\u001b[0;31mKeyError\u001b[0m: \"['Id' 'Id_old' 'MIN' 'FGM' 'FGA' 'TOV' '3PA' 'FTM' 'FTA' 'REB'] not found in axis\""
     ]
    }
   ],
   "source": [
    "# Filter out the Columns according to Corr Results\n",
    "train_df  = train_df[selected_features]\n",
    "\n",
    "# Remove the target column, because the raw test set does not contain it\n",
    "features_without_target = np.delete(selected_features, 13)\n",
    "test_df = test_df[features_without_target]\n",
    "\n",
    "# Split Data into Train-Test set\n",
    "X_train, X_val, y_train, y_val  = data_reader.split_data(train_df)\n",
    "\n",
    "# Polynomialise\n",
    "poly = PolynomialFeatures(2)\n",
    "X_train_poly = poly.fit_transform(X_train)\n",
    "X_val_poly = poly.fit_transform(X_val)\n",
    "X_test_poly = poly.fit_transform(test_df)"
   ]
  },
  {
   "cell_type": "markdown",
   "metadata": {},
   "source": [
    "### Build the Logistic Regression Model"
   ]
  },
  {
   "cell_type": "code",
   "execution_count": 53,
   "metadata": {},
   "outputs": [
    {
     "name": "stderr",
     "output_type": "stream",
     "text": [
      "C:\\Hnin\\Anaconda3\\lib\\site-packages\\sklearn\\linear_model\\logistic.py:432: FutureWarning: Default solver will be changed to 'lbfgs' in 0.22. Specify a solver to silence this warning.\n",
      "  FutureWarning)\n"
     ]
    }
   ],
   "source": [
    "\n",
    "log_reg = LogisticRegression().fit(X_train_poly, y_train)\n"
   ]
  },
  {
   "cell_type": "markdown",
   "metadata": {},
   "source": [
    "### Prediction and Model Performance Evaluation"
   ]
  },
  {
   "cell_type": "code",
   "execution_count": 55,
   "metadata": {},
   "outputs": [
    {
     "data": {
      "text/plain": [
       "0.834375"
      ]
     },
     "execution_count": 55,
     "metadata": {},
     "output_type": "execute_result"
    }
   ],
   "source": [
    "# Get Model Prediction Probability on Training Set\n",
    "y_pred=log_reg.predict_proba(X_train_poly)[:,1]\n",
    "\n",
    "# Check Accuracy Score\n",
    "y_pred=log_reg.predict(X_train_poly)\n",
    "accuracy_score(y_train, y_pred)"
   ]
  },
  {
   "cell_type": "code",
   "execution_count": 56,
   "metadata": {},
   "outputs": [
    {
     "data": {
      "text/plain": [
       "0.83625"
      ]
     },
     "execution_count": 56,
     "metadata": {},
     "output_type": "execute_result"
    }
   ],
   "source": [
    "# Get Model Prediction Probability on Validation Set\n",
    "y_pred=log_reg.predict_proba(X_val_poly)[:,1]\n",
    "\n",
    "# Check Accuracy Score\n",
    "y_pred=log_reg.predict(X_val_poly)\n",
    "accuracy_score(y_val, y_pred)  # 0.836875 last,"
   ]
  },
  {
   "cell_type": "markdown",
   "metadata": {},
   "source": [
    "### Prediction on Test Data"
   ]
  },
  {
   "cell_type": "code",
   "execution_count": 57,
   "metadata": {},
   "outputs": [
    {
     "data": {
      "text/html": [
       "<div>\n",
       "<style scoped>\n",
       "    .dataframe tbody tr th:only-of-type {\n",
       "        vertical-align: middle;\n",
       "    }\n",
       "\n",
       "    .dataframe tbody tr th {\n",
       "        vertical-align: top;\n",
       "    }\n",
       "\n",
       "    .dataframe thead th {\n",
       "        text-align: right;\n",
       "    }\n",
       "</style>\n",
       "<table border=\"1\" class=\"dataframe\">\n",
       "  <thead>\n",
       "    <tr style=\"text-align: right;\">\n",
       "      <th></th>\n",
       "      <th>Id</th>\n",
       "      <th>TARGET_5Yrs</th>\n",
       "    </tr>\n",
       "  </thead>\n",
       "  <tbody>\n",
       "    <tr>\n",
       "      <td>0</td>\n",
       "      <td>0</td>\n",
       "      <td>0.820041</td>\n",
       "    </tr>\n",
       "    <tr>\n",
       "      <td>1</td>\n",
       "      <td>1</td>\n",
       "      <td>0.754886</td>\n",
       "    </tr>\n",
       "    <tr>\n",
       "      <td>2</td>\n",
       "      <td>2</td>\n",
       "      <td>0.953375</td>\n",
       "    </tr>\n",
       "    <tr>\n",
       "      <td>3</td>\n",
       "      <td>3</td>\n",
       "      <td>0.927636</td>\n",
       "    </tr>\n",
       "    <tr>\n",
       "      <td>4</td>\n",
       "      <td>4</td>\n",
       "      <td>0.768995</td>\n",
       "    </tr>\n",
       "    <tr>\n",
       "      <td>5</td>\n",
       "      <td>5</td>\n",
       "      <td>0.896344</td>\n",
       "    </tr>\n",
       "    <tr>\n",
       "      <td>6</td>\n",
       "      <td>6</td>\n",
       "      <td>0.738301</td>\n",
       "    </tr>\n",
       "    <tr>\n",
       "      <td>7</td>\n",
       "      <td>7</td>\n",
       "      <td>0.793825</td>\n",
       "    </tr>\n",
       "    <tr>\n",
       "      <td>8</td>\n",
       "      <td>8</td>\n",
       "      <td>0.835257</td>\n",
       "    </tr>\n",
       "    <tr>\n",
       "      <td>9</td>\n",
       "      <td>9</td>\n",
       "      <td>0.686938</td>\n",
       "    </tr>\n",
       "  </tbody>\n",
       "</table>\n",
       "</div>"
      ],
      "text/plain": [
       "   Id  TARGET_5Yrs\n",
       "0   0     0.820041\n",
       "1   1     0.754886\n",
       "2   2     0.953375\n",
       "3   3     0.927636\n",
       "4   4     0.768995\n",
       "5   5     0.896344\n",
       "6   6     0.738301\n",
       "7   7     0.793825\n",
       "8   8     0.835257\n",
       "9   9     0.686938"
      ]
     },
     "execution_count": 57,
     "metadata": {},
     "output_type": "execute_result"
    }
   ],
   "source": [
    "y_pred=log_reg.predict_proba(X_test_poly)[:,1]\n",
    "\n",
    "final_prediction_test = pd.DataFrame({'Id': range(0,3799), 'TARGET_5Yrs': [p for p in y_pred]})\n",
    "\n",
    "final_prediction_test.to_csv(\"../reports/tin_submission_poly_logistic_regression_feature_selection.csv\", index=False)\n",
    "final_prediction_test.head(10)"
   ]
  }
 ],
 "metadata": {
  "kernelspec": {
   "display_name": "Python 3",
   "language": "python",
   "name": "python3"
  },
  "language_info": {
   "codemirror_mode": {
    "name": "ipython",
    "version": 3
   },
   "file_extension": ".py",
   "mimetype": "text/x-python",
   "name": "python",
   "nbconvert_exporter": "python",
   "pygments_lexer": "ipython3",
   "version": "3.7.6"
  }
 },
 "nbformat": 4,
 "nbformat_minor": 4
}
