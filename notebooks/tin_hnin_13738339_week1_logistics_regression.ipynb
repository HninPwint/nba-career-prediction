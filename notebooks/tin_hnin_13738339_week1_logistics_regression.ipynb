{
 "cells": [
  {
   "cell_type": "markdown",
   "metadata": {},
   "source": [
    "### Introduction"
   ]
  },
  {
   "cell_type": "markdown",
   "metadata": {},
   "source": [
    "This notebook is an experiment of building a model that will predict if a rookie player will last at least 5 years in the league based on his stats.\n",
    "\n",
    "In the National Basketball Association (NBA), a rookie is any player who has never played a game in the NBA until that year. At the end of the season the NBA awards the best rookie with the NBA Rookie of the Year Award.\n",
    "\n",
    "Moving to the NBA league is a big deal for any basketball player. Sport commentators and fans are very excited to follow the start of their careers and guess how they will perform in the future.\n",
    "\n",
    "In this experiment, LogisticRegression model is used."
   ]
  },
  {
   "cell_type": "markdown",
   "metadata": {},
   "source": [
    "### Import the libraries"
   ]
  },
  {
   "cell_type": "code",
   "execution_count": 7,
   "metadata": {},
   "outputs": [],
   "source": [
    "import pandas as pd\n",
    "import numpy as np\n",
    "\n",
    "from sklearn.preprocessing import StandardScaler, PolynomialFeatures\n",
    "import os\n",
    "import sys\n",
    "sys.path.append(os.path.abspath('..'))\n",
    "from src.common_lib import DataReader, NBARawData\n",
    "from src.models.aj_metrics import confusion_matrix\n",
    "\n",
    "from sklearn.linear_model import LogisticRegression \n",
    "from sklearn.metrics import accuracy_score\n",
    "from joblib import dump"
   ]
  },
  {
   "cell_type": "markdown",
   "metadata": {},
   "source": [
    "### Load the data"
   ]
  },
  {
   "cell_type": "code",
   "execution_count": 11,
   "metadata": {},
   "outputs": [],
   "source": [
    "# Instantiate the custom data reader class\n",
    "data_reader = DataReader()\n",
    "\n",
    "# Load Raw Train Data\n",
    "train_df = data_reader.read_data(NBARawData.TRAIN)\n",
    "\n",
    "# Load Test Raw Data\n",
    "test_df = data_reader.read_data(NBARawData.TEST)"
   ]
  },
  {
   "cell_type": "markdown",
   "metadata": {},
   "source": [
    "### Feature Selection"
   ]
  },
  {
   "cell_type": "code",
   "execution_count": 12,
   "metadata": {},
   "outputs": [
    {
     "name": "stdout",
     "output_type": "stream",
     "text": [
      "Index(['GP', 'MIN', 'FG%', '3P Made', '3P%', 'FTM', 'FT%', 'OREB', 'DREB',\n",
      "       'AST', 'STL', 'BLK', 'TOV', 'TARGET_5Yrs'],\n",
      "      dtype='object')\n"
     ]
    },
    {
     "data": {
      "image/png": "[encoded data removed]",
      "text/plain": [
       "<Figure size 432x288 with 2 Axes>"
      ]
     },
     "metadata": {
      "needs_background": "light"
     },
     "output_type": "display_data"
    }
   ],
   "source": [
    "# Invoke the common function to do feature selection by correlation, Please run only once\n",
    "# Features with corr > 0.9 are removed\n",
    "selected_features = data_reader.select_feature_by_correlation(train_df)\n",
    "print(selected_features)"
   ]
  },
  {
   "cell_type": "code",
   "execution_count": 13,
   "metadata": {},
   "outputs": [
    {
     "data": {
      "text/plain": [
       "3617    1\n",
       "1120    1\n",
       "3873    1\n",
       "153     1\n",
       "2960    1\n",
       "       ..\n",
       "2181    1\n",
       "2409    1\n",
       "2033    0\n",
       "1364    1\n",
       "4547    1\n",
       "Name: TARGET_5Yrs, Length: 6400, dtype: int64"
      ]
     },
     "execution_count": 13,
     "metadata": {},
     "output_type": "execute_result"
    }
   ],
   "source": [
    "# Filter out the Columns according to Corr Results\n",
    "train_df  = train_df[selected_features]\n",
    "\n",
    "# Remove the target column, because the raw test set does not contain it\n",
    "features_without_target = np.delete(selected_features, 13)\n",
    "test_df = test_df[features_without_target]\n",
    "\n",
    "# Split Data into Train-Test set\n",
    "X_train, X_val, y_train, y_val  = data_reader.split_data(train_df)\n",
    "y_train\n",
    "\n",
    "# Polynomialise\n",
    "# poly = PolynomialFeatures(2)\n",
    "# X_train_poly = poly.fit_transform(X_train)\n",
    "# X_val_poly = poly.fit_transform(X_val)\n",
    "# X_test_poly = poly.fit_transform(test_df)"
   ]
  },
  {
   "cell_type": "markdown",
   "metadata": {},
   "source": [
    "### Build the Logistic Regression Model"
   ]
  },
  {
   "cell_type": "code",
   "execution_count": 5,
   "metadata": {},
   "outputs": [
    {
     "name": "stderr",
     "output_type": "stream",
     "text": [
      "C:\\Hnin\\Anaconda3\\lib\\site-packages\\sklearn\\linear_model\\_logistic.py:765: ConvergenceWarning: lbfgs failed to converge (status=1):\n",
      "STOP: TOTAL NO. of ITERATIONS REACHED LIMIT.\n",
      "\n",
      "Increase the number of iterations (max_iter) or scale the data as shown in:\n",
      "    https://scikit-learn.org/stable/modules/preprocessing.html\n",
      "Please also refer to the documentation for alternative solver options:\n",
      "    https://scikit-learn.org/stable/modules/linear_model.html#logistic-regression\n",
      "  extra_warning_msg=_LOGISTIC_SOLVER_CONVERGENCE_MSG)\n"
     ]
    },
    {
     "data": {
      "text/plain": [
       "['../models/tin_poly_logistic_regression_01.joblib']"
      ]
     },
     "execution_count": 5,
     "metadata": {},
     "output_type": "execute_result"
    }
   ],
   "source": [
    "log_reg = LogisticRegression().fit(X_train_poly, y_train)\n",
    "dump(log_reg,  '../models/tin_poly_logistic_regression_01.joblib')"
   ]
  },
  {
   "cell_type": "markdown",
   "metadata": {},
   "source": [
    "### Prediction and Model Performance Evaluation"
   ]
  },
  {
   "cell_type": "code",
   "execution_count": 39,
   "metadata": {},
   "outputs": [
    {
     "name": "stdout",
     "output_type": "stream",
     "text": [
      "0.834375\n",
      "        pred:0  pred:1\n",
      "true:0      34    1040\n",
      "true:1      20    5306\n"
     ]
    }
   ],
   "source": [
    "# Get Model Prediction Probability on Training Set\n",
    "y_pred=log_reg.predict_proba(X_train_poly)[:,1]\n",
    "\n",
    "# Check Accuracy Score\n",
    "y_pred=log_reg.predict(X_train_poly)\n",
    "print(accuracy_score(y_train, y_pred))\n",
    "print(confusion_matrix(y_train, y_pred))"
   ]
  },
  {
   "cell_type": "code",
   "execution_count": 34,
   "metadata": {},
   "outputs": [
    {
     "name": "stdout",
     "output_type": "stream",
     "text": [
      "0.83625\n",
      "        pred:0  pred:1\n",
      "true:0       5     252\n",
      "true:1      10    1333\n"
     ]
    }
   ],
   "source": [
    "# Get Model Prediction Probability on Validation Set\n",
    "y_pred=log_reg.predict_proba(X_val_poly)[:,1]\n",
    "\n",
    "# Check Accuracy Score\n",
    "y_pred=log_reg.predict(X_val_poly)\n",
    "print(accuracy_score(y_val, y_pred))\n",
    "print(confusion_matrix(y_val, y_pred))"
   ]
  },
  {
   "cell_type": "markdown",
   "metadata": {},
   "source": [
    "### Prediction on Test Data"
   ]
  },
  {
   "cell_type": "code",
   "execution_count": 42,
   "metadata": {},
   "outputs": [
    {
     "data": {
      "text/html": [
       "<div>\n",
       "<style scoped>\n",
       "    .dataframe tbody tr th:only-of-type {\n",
       "        vertical-align: middle;\n",
       "    }\n",
       "\n",
       "    .dataframe tbody tr th {\n",
       "        vertical-align: top;\n",
       "    }\n",
       "\n",
       "    .dataframe thead th {\n",
       "        text-align: right;\n",
       "    }\n",
       "</style>\n",
       "<table border=\"1\" class=\"dataframe\">\n",
       "  <thead>\n",
       "    <tr style=\"text-align: right;\">\n",
       "      <th></th>\n",
       "      <th>Id</th>\n",
       "      <th>TARGET_5Yrs</th>\n",
       "    </tr>\n",
       "  </thead>\n",
       "  <tbody>\n",
       "    <tr>\n",
       "      <td>0</td>\n",
       "      <td>0</td>\n",
       "      <td>0.820041</td>\n",
       "    </tr>\n",
       "    <tr>\n",
       "      <td>1</td>\n",
       "      <td>1</td>\n",
       "      <td>0.754886</td>\n",
       "    </tr>\n",
       "    <tr>\n",
       "      <td>2</td>\n",
       "      <td>2</td>\n",
       "      <td>0.953375</td>\n",
       "    </tr>\n",
       "    <tr>\n",
       "      <td>3</td>\n",
       "      <td>3</td>\n",
       "      <td>0.927636</td>\n",
       "    </tr>\n",
       "    <tr>\n",
       "      <td>4</td>\n",
       "      <td>4</td>\n",
       "      <td>0.768995</td>\n",
       "    </tr>\n",
       "    <tr>\n",
       "      <td>5</td>\n",
       "      <td>5</td>\n",
       "      <td>0.896344</td>\n",
       "    </tr>\n",
       "    <tr>\n",
       "      <td>6</td>\n",
       "      <td>6</td>\n",
       "      <td>0.738301</td>\n",
       "    </tr>\n",
       "    <tr>\n",
       "      <td>7</td>\n",
       "      <td>7</td>\n",
       "      <td>0.793825</td>\n",
       "    </tr>\n",
       "    <tr>\n",
       "      <td>8</td>\n",
       "      <td>8</td>\n",
       "      <td>0.835257</td>\n",
       "    </tr>\n",
       "    <tr>\n",
       "      <td>9</td>\n",
       "      <td>9</td>\n",
       "      <td>0.686938</td>\n",
       "    </tr>\n",
       "  </tbody>\n",
       "</table>\n",
       "</div>"
      ],
      "text/plain": [
       "   Id  TARGET_5Yrs\n",
       "0   0     0.820041\n",
       "1   1     0.754886\n",
       "2   2     0.953375\n",
       "3   3     0.927636\n",
       "4   4     0.768995\n",
       "5   5     0.896344\n",
       "6   6     0.738301\n",
       "7   7     0.793825\n",
       "8   8     0.835257\n",
       "9   9     0.686938"
      ]
     },
     "execution_count": 42,
     "metadata": {},
     "output_type": "execute_result"
    }
   ],
   "source": [
    "y_pred=log_reg.predict_proba(X_test_poly)[:,1]\n",
    "\n",
    "final_prediction_test = pd.DataFrame({'Id': range(0,3799), 'TARGET_5Yrs': [p for p in y_pred]})\n",
    "\n",
    "final_prediction_test.to_csv(\"../reports/tin_submission_poly_logistic_regression_feature_selection.csv\", index=False)\n",
    "final_prediction_test.head(10)"
   ]
  }
 ],
 "metadata": {
  "kernelspec": {
   "display_name": "Python 3",
   "language": "python",
   "name": "python3"
  },
  "language_info": {
   "codemirror_mode": {
    "name": "ipython",
    "version": 3
   },
   "file_extension": ".py",
   "mimetype": "text/x-python",
   "name": "python",
   "nbconvert_exporter": "python",
   "pygments_lexer": "ipython3",
   "version": "3.6.9"
  }
 },
 "nbformat": 4,
 "nbformat_minor": 4
}
