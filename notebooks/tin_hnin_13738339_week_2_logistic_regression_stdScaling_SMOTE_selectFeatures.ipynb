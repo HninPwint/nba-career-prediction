{
 "cells": [
  {
   "cell_type": "markdown",
   "metadata": {},
   "source": [
    "### Introduction"
   ]
  },
  {
   "cell_type": "markdown",
   "metadata": {},
   "source": [
    "This notebook is an experiment of building a model that will predict if a rookie player will last at least 5 years in the league based on his stats.\n",
    "\n",
    "In the National Basketball Association (NBA), a rookie is any player who has never played a game in the NBA until that year. At the end of the season the NBA awards the best rookie with the NBA Rookie of the Year Award.\n",
    "\n",
    "Moving to the NBA league is a big deal for any basketball player. Sport commentators and fans are very excited to follow the start of their careers and guess how they will perform in the future.\n",
    "\n",
    "In this experiment, LogisticRegression model is used."
   ]
  },
  {
   "cell_type": "markdown",
   "metadata": {},
   "source": [
    "### Import the libraries"
   ]
  },
  {
   "cell_type": "code",
   "execution_count": 49,
   "metadata": {},
   "outputs": [
    {
     "name": "stdout",
     "output_type": "stream",
     "text": [
      "The autoreload extension is already loaded. To reload it, use:\n",
      "  %reload_ext autoreload\n"
     ]
    }
   ],
   "source": [
    "import pandas as pd\n",
    "import numpy as np\n",
    "\n",
    "from sklearn.preprocessing import StandardScaler, PolynomialFeatures\n",
    "import os\n",
    "import sys\n",
    "sys.path.append(os.path.abspath('..'))\n",
    "from src.common_lib import DataReader, NBARawData\n",
    "from src.models.aj_metrics import confusion_matrix, plot_roc\n",
    "\n",
    "from sklearn.linear_model import LogisticRegression \n",
    "from sklearn.metrics import accuracy_score, roc_curve, auc\n",
    "import matplotlib.pyplot as plt\n",
    "from joblib import dump\n",
    "\n",
    "import warnings\n",
    "warnings.simplefilter(action='ignore', category=FutureWarning)\n",
    "\n",
    "%load_ext autoreload\n",
    "%autoreload 2"
   ]
  },
  {
   "cell_type": "markdown",
   "metadata": {},
   "source": [
    "### Load the data"
   ]
  },
  {
   "cell_type": "code",
   "execution_count": 91,
   "metadata": {},
   "outputs": [],
   "source": [
    "# Instantiate the custom data reader class\n",
    "data_reader = DataReader()\n",
    "\n",
    "# Load Raw Train Data\n",
    "train_df = data_reader.read_data(NBARawData.TRAIN)\n",
    "\n",
    "# Load Test Raw Data\n",
    "test_df = data_reader.read_data(NBARawData.TEST)"
   ]
  },
  {
   "cell_type": "markdown",
   "metadata": {},
   "source": [
    "### Class Balance Check on Raw Data"
   ]
  },
  {
   "cell_type": "code",
   "execution_count": 4,
   "metadata": {},
   "outputs": [
    {
     "name": "stdout",
     "output_type": "stream",
     "text": [
      "Propotion:  0.2 :1\n"
     ]
    },
    {
     "data": {
      "text/plain": [
       "<AxesSubplot:title={'center':'Count -Target'}>"
      ]
     },
     "execution_count": 4,
     "metadata": {},
     "output_type": "execute_result"
    },
    {
     "data": {
      "image/png": "[encoded data removed]",
      "text/plain": [
       "<Figure size 432x288 with 1 Axes>"
      ]
     },
     "metadata": {
      "needs_background": "light"
     },
     "output_type": "display_data"
    }
   ],
   "source": [
    "target_count = train_df[\"TARGET_5Yrs\"].value_counts()\n",
    "print('Propotion: ', round(target_count[0]/ target_count[1], 2), \":1\")\n",
    "target_count.plot(kind='bar', title = 'Count -Target')"
   ]
  },
  {
   "cell_type": "markdown",
   "metadata": {},
   "source": [
    "### Scaling with Standard Scaler"
   ]
  },
  {
   "cell_type": "code",
   "execution_count": 5,
   "metadata": {},
   "outputs": [
    {
     "data": {
      "text/plain": [
       "array([[ 0.93005882, -1.73183431,  1.00610018, ...,  1.1072419 ,\n",
       "        -0.05507101,  0.47321012],\n",
       "       [-0.38091406, -1.7314013 ,  0.71400493, ..., -0.36478721,\n",
       "         0.43214835,  0.1966711 ],\n",
       "       [-0.28687803, -1.73096829,  1.29819543, ..., -0.6101254 ,\n",
       "        -0.05507101, -0.90948499],\n",
       "       ...,\n",
       "       [-0.33188458,  1.73096829,  1.29819543, ...,  1.35258008,\n",
       "        -0.05507101,  0.74974914],\n",
       "       [-1.39921865,  1.7314013 , -1.38908087, ..., -0.85546358,\n",
       "         0.06673383, -1.0477545 ],\n",
       "       [-0.99491401,  1.73183431, -0.80489037, ...,  0.61656553,\n",
       "        -0.66409522,  0.1966711 ]])"
      ]
     },
     "execution_count": 5,
     "metadata": {},
     "output_type": "execute_result"
    }
   ],
   "source": [
    "## Scaling\n",
    "from sklearn import preprocessing\n",
    "from sklearn.preprocessing import StandardScaler\n",
    "\n",
    "scaler = StandardScaler()\n",
    "df_cleaned = train_df.copy()\n",
    "df_cleaned.columns = df_cleaned.columns.str.strip()\n",
    "target = df_cleaned.pop('TARGET_5Yrs')\n",
    "\n",
    "train_df_scaled = scaler.fit_transform(df_cleaned)\n",
    "train_df_scaled"
   ]
  },
  {
   "cell_type": "markdown",
   "metadata": {},
   "source": [
    "### Select Features"
   ]
  },
  {
   "cell_type": "code",
   "execution_count": 6,
   "metadata": {},
   "outputs": [
    {
     "data": {
      "image/png": "[encoded data removed]",
      "text/plain": [
       "<Figure size 432x288 with 2 Axes>"
      ]
     },
     "metadata": {
      "needs_background": "light"
     },
     "output_type": "display_data"
    }
   ],
   "source": [
    "train_df_scaled = pd.DataFrame(train_df_scaled)\n",
    "train_df_scaled.columns = df_cleaned.columns\n",
    "\n",
    "selected_features = data_reader.select_feature_by_correlation(train_df_scaled)"
   ]
  },
  {
   "cell_type": "code",
   "execution_count": 7,
   "metadata": {},
   "outputs": [
    {
     "data": {
      "text/plain": [
       "Index(['GP', 'MIN', 'FG%', '3P Made', '3P%', 'FTM', 'FT%', 'OREB', 'DREB',\n",
       "       'AST', 'STL', 'BLK', 'TOV'],\n",
       "      dtype='object')"
      ]
     },
     "execution_count": 7,
     "metadata": {},
     "output_type": "execute_result"
    }
   ],
   "source": [
    "selected_features"
   ]
  },
  {
   "cell_type": "markdown",
   "metadata": {},
   "source": [
    "### Split Train and Test on Scaled Data with Selected Features"
   ]
  },
  {
   "cell_type": "code",
   "execution_count": 8,
   "metadata": {},
   "outputs": [
    {
     "data": {
      "text/html": [
       "<div>\n",
       "<style scoped>\n",
       "    .dataframe tbody tr th:only-of-type {\n",
       "        vertical-align: middle;\n",
       "    }\n",
       "\n",
       "    .dataframe tbody tr th {\n",
       "        vertical-align: top;\n",
       "    }\n",
       "\n",
       "    .dataframe thead th {\n",
       "        text-align: right;\n",
       "    }\n",
       "</style>\n",
       "<table border=\"1\" class=\"dataframe\">\n",
       "  <thead>\n",
       "    <tr style=\"text-align: right;\">\n",
       "      <th></th>\n",
       "      <th>GP</th>\n",
       "      <th>MIN</th>\n",
       "      <th>FG%</th>\n",
       "      <th>3P Made</th>\n",
       "      <th>3P%</th>\n",
       "      <th>FTM</th>\n",
       "      <th>FT%</th>\n",
       "      <th>OREB</th>\n",
       "      <th>DREB</th>\n",
       "      <th>AST</th>\n",
       "      <th>STL</th>\n",
       "      <th>BLK</th>\n",
       "      <th>TOV</th>\n",
       "    </tr>\n",
       "  </thead>\n",
       "  <tbody>\n",
       "    <tr>\n",
       "      <th>3617</th>\n",
       "      <td>0.071395</td>\n",
       "      <td>-0.523427</td>\n",
       "      <td>-0.261394</td>\n",
       "      <td>-1.209483</td>\n",
       "      <td>-0.480167</td>\n",
       "      <td>0.008072</td>\n",
       "      <td>-0.207657</td>\n",
       "      <td>-0.608229</td>\n",
       "      <td>-0.336533</td>\n",
       "      <td>-0.755595</td>\n",
       "      <td>-0.610125</td>\n",
       "      <td>-0.176876</td>\n",
       "      <td>-0.771215</td>\n",
       "    </tr>\n",
       "    <tr>\n",
       "      <th>1120</th>\n",
       "      <td>1.064519</td>\n",
       "      <td>0.248843</td>\n",
       "      <td>0.031048</td>\n",
       "      <td>0.352736</td>\n",
       "      <td>-0.467668</td>\n",
       "      <td>0.439993</td>\n",
       "      <td>0.731958</td>\n",
       "      <td>0.791937</td>\n",
       "      <td>1.315603</td>\n",
       "      <td>-0.681844</td>\n",
       "      <td>-0.119449</td>\n",
       "      <td>-0.176876</td>\n",
       "      <td>0.058402</td>\n",
       "    </tr>\n",
       "    <tr>\n",
       "      <th>3873</th>\n",
       "      <td>-0.746471</td>\n",
       "      <td>-1.452389</td>\n",
       "      <td>-1.333681</td>\n",
       "      <td>-0.688743</td>\n",
       "      <td>-1.417540</td>\n",
       "      <td>-1.287692</td>\n",
       "      <td>-0.265185</td>\n",
       "      <td>-1.244669</td>\n",
       "      <td>-1.414013</td>\n",
       "      <td>-0.091830</td>\n",
       "      <td>-0.610125</td>\n",
       "      <td>-0.664095</td>\n",
       "      <td>-1.324294</td>\n",
       "    </tr>\n",
       "    <tr>\n",
       "      <th>153</th>\n",
       "      <td>0.538748</td>\n",
       "      <td>0.080958</td>\n",
       "      <td>-0.683810</td>\n",
       "      <td>-0.428374</td>\n",
       "      <td>0.357221</td>\n",
       "      <td>-0.531830</td>\n",
       "      <td>-2.201944</td>\n",
       "      <td>-0.480941</td>\n",
       "      <td>-0.121037</td>\n",
       "      <td>-0.386837</td>\n",
       "      <td>-0.364787</td>\n",
       "      <td>-0.055071</td>\n",
       "      <td>-0.494676</td>\n",
       "    </tr>\n",
       "    <tr>\n",
       "      <th>2960</th>\n",
       "      <td>-1.038567</td>\n",
       "      <td>0.125727</td>\n",
       "      <td>-0.407615</td>\n",
       "      <td>-0.428374</td>\n",
       "      <td>-1.392544</td>\n",
       "      <td>-0.315869</td>\n",
       "      <td>-0.897987</td>\n",
       "      <td>-0.099078</td>\n",
       "      <td>-0.480197</td>\n",
       "      <td>-0.091830</td>\n",
       "      <td>-0.610125</td>\n",
       "      <td>0.066734</td>\n",
       "      <td>0.749749</td>\n",
       "    </tr>\n",
       "    <tr>\n",
       "      <th>...</th>\n",
       "      <td>...</td>\n",
       "      <td>...</td>\n",
       "      <td>...</td>\n",
       "      <td>...</td>\n",
       "      <td>...</td>\n",
       "      <td>...</td>\n",
       "      <td>...</td>\n",
       "      <td>...</td>\n",
       "      <td>...</td>\n",
       "      <td>...</td>\n",
       "      <td>...</td>\n",
       "      <td>...</td>\n",
       "      <td>...</td>\n",
       "    </tr>\n",
       "    <tr>\n",
       "      <th>2181</th>\n",
       "      <td>0.655586</td>\n",
       "      <td>3.114075</td>\n",
       "      <td>0.112281</td>\n",
       "      <td>1.394215</td>\n",
       "      <td>1.413328</td>\n",
       "      <td>1.843737</td>\n",
       "      <td>-0.322712</td>\n",
       "      <td>1.046513</td>\n",
       "      <td>2.895908</td>\n",
       "      <td>1.309452</td>\n",
       "      <td>1.843256</td>\n",
       "      <td>0.066734</td>\n",
       "      <td>2.408983</td>\n",
       "    </tr>\n",
       "    <tr>\n",
       "      <th>2409</th>\n",
       "      <td>-0.220700</td>\n",
       "      <td>-0.422696</td>\n",
       "      <td>-1.772344</td>\n",
       "      <td>0.613106</td>\n",
       "      <td>-0.330187</td>\n",
       "      <td>-0.099909</td>\n",
       "      <td>-1.444499</td>\n",
       "      <td>-0.480941</td>\n",
       "      <td>-0.695693</td>\n",
       "      <td>-0.091830</td>\n",
       "      <td>0.616566</td>\n",
       "      <td>-0.176876</td>\n",
       "      <td>-0.771215</td>\n",
       "    </tr>\n",
       "    <tr>\n",
       "      <th>2033</th>\n",
       "      <td>-0.454376</td>\n",
       "      <td>-0.333157</td>\n",
       "      <td>-0.033940</td>\n",
       "      <td>0.873476</td>\n",
       "      <td>0.775914</td>\n",
       "      <td>-0.747791</td>\n",
       "      <td>0.127920</td>\n",
       "      <td>0.028210</td>\n",
       "      <td>0.094459</td>\n",
       "      <td>-0.460589</td>\n",
       "      <td>-0.364787</td>\n",
       "      <td>0.066734</td>\n",
       "      <td>-0.632946</td>\n",
       "    </tr>\n",
       "    <tr>\n",
       "      <th>1364</th>\n",
       "      <td>1.648710</td>\n",
       "      <td>3.281959</td>\n",
       "      <td>0.226009</td>\n",
       "      <td>0.352736</td>\n",
       "      <td>-1.261311</td>\n",
       "      <td>1.951717</td>\n",
       "      <td>-0.476119</td>\n",
       "      <td>2.446680</td>\n",
       "      <td>3.111404</td>\n",
       "      <td>1.899466</td>\n",
       "      <td>0.616566</td>\n",
       "      <td>0.432148</td>\n",
       "      <td>0.473210</td>\n",
       "    </tr>\n",
       "    <tr>\n",
       "      <th>4547</th>\n",
       "      <td>0.246653</td>\n",
       "      <td>0.875612</td>\n",
       "      <td>0.827140</td>\n",
       "      <td>-1.469853</td>\n",
       "      <td>-1.523776</td>\n",
       "      <td>0.655953</td>\n",
       "      <td>0.425145</td>\n",
       "      <td>2.319392</td>\n",
       "      <td>1.962091</td>\n",
       "      <td>-0.976850</td>\n",
       "      <td>-0.119449</td>\n",
       "      <td>2.624635</td>\n",
       "      <td>-0.356407</td>\n",
       "    </tr>\n",
       "  </tbody>\n",
       "</table>\n",
       "<p>6400 rows × 13 columns</p>\n",
       "</div>"
      ],
      "text/plain": [
       "            GP       MIN       FG%   3P Made       3P%       FTM       FT%  \\\n",
       "3617  0.071395 -0.523427 -0.261394 -1.209483 -0.480167  0.008072 -0.207657   \n",
       "1120  1.064519  0.248843  0.031048  0.352736 -0.467668  0.439993  0.731958   \n",
       "3873 -0.746471 -1.452389 -1.333681 -0.688743 -1.417540 -1.287692 -0.265185   \n",
       "153   0.538748  0.080958 -0.683810 -0.428374  0.357221 -0.531830 -2.201944   \n",
       "2960 -1.038567  0.125727 -0.407615 -0.428374 -1.392544 -0.315869 -0.897987   \n",
       "...        ...       ...       ...       ...       ...       ...       ...   \n",
       "2181  0.655586  3.114075  0.112281  1.394215  1.413328  1.843737 -0.322712   \n",
       "2409 -0.220700 -0.422696 -1.772344  0.613106 -0.330187 -0.099909 -1.444499   \n",
       "2033 -0.454376 -0.333157 -0.033940  0.873476  0.775914 -0.747791  0.127920   \n",
       "1364  1.648710  3.281959  0.226009  0.352736 -1.261311  1.951717 -0.476119   \n",
       "4547  0.246653  0.875612  0.827140 -1.469853 -1.523776  0.655953  0.425145   \n",
       "\n",
       "          OREB      DREB       AST       STL       BLK       TOV  \n",
       "3617 -0.608229 -0.336533 -0.755595 -0.610125 -0.176876 -0.771215  \n",
       "1120  0.791937  1.315603 -0.681844 -0.119449 -0.176876  0.058402  \n",
       "3873 -1.244669 -1.414013 -0.091830 -0.610125 -0.664095 -1.324294  \n",
       "153  -0.480941 -0.121037 -0.386837 -0.364787 -0.055071 -0.494676  \n",
       "2960 -0.099078 -0.480197 -0.091830 -0.610125  0.066734  0.749749  \n",
       "...        ...       ...       ...       ...       ...       ...  \n",
       "2181  1.046513  2.895908  1.309452  1.843256  0.066734  2.408983  \n",
       "2409 -0.480941 -0.695693 -0.091830  0.616566 -0.176876 -0.771215  \n",
       "2033  0.028210  0.094459 -0.460589 -0.364787  0.066734 -0.632946  \n",
       "1364  2.446680  3.111404  1.899466  0.616566  0.432148  0.473210  \n",
       "4547  2.319392  1.962091 -0.976850 -0.119449  2.624635 -0.356407  \n",
       "\n",
       "[6400 rows x 13 columns]"
      ]
     },
     "execution_count": 8,
     "metadata": {},
     "output_type": "execute_result"
    }
   ],
   "source": [
    "train_df_scaled  = train_df_scaled[selected_features]\n",
    "\n",
    "X_train, X_val, y_train, y_val = train_test_split(train_df_scaled, target, test_size = 0.2, random_state=8 )\n",
    "X_train"
   ]
  },
  {
   "cell_type": "code",
   "execution_count": 41,
   "metadata": {},
   "outputs": [
    {
     "name": "stdout",
     "output_type": "stream",
     "text": [
      "5326\n",
      "1074\n"
     ]
    },
    {
     "data": {
      "image/png": "[encoded data removed]",
      "text/plain": [
       "<Figure size 432x288 with 1 Axes>"
      ]
     },
     "metadata": {
      "needs_background": "light"
     },
     "output_type": "display_data"
    }
   ],
   "source": [
    "### Visualisation Before Sampling Classification Count\n",
    "pl = pd.DataFrame(y_train)\n",
    "pl.columns = ['Target']\n",
    "\n",
    "pl.Target.value_counts().plot(kind=\"bar\", title=\"Count\")\n",
    "\n",
    "print(sum(y_train == 1))\n",
    "print(sum(y_train == 0))"
   ]
  },
  {
   "cell_type": "markdown",
   "metadata": {},
   "source": [
    "### Re-sampling -  Over Sampling"
   ]
  },
  {
   "cell_type": "code",
   "execution_count": 73,
   "metadata": {},
   "outputs": [
    {
     "name": "stdout",
     "output_type": "stream",
     "text": [
      "y_train_count -  Counter({1: 5326, 0: 5326})\n",
      "y_val_count -  Counter({0: 1343, 1: 1343})\n"
     ]
    },
    {
     "data": {
      "text/plain": [
       "<AxesSubplot:title={'center':'Count'}>"
      ]
     },
     "execution_count": 73,
     "metadata": {},
     "output_type": "execute_result"
    },
    {
     "data": {
      "image/png": "[encoded data removed]",
      "text/plain": [
       "<Figure size 432x288 with 1 Axes>"
      ]
     },
     "metadata": {
      "needs_background": "light"
     },
     "output_type": "display_data"
    }
   ],
   "source": [
    "### SMOTE\n",
    "from imblearn.over_sampling import SMOTE\n",
    "from collections import Counter\n",
    "\n",
    "sm = SMOTE(random_state = 23, sampling_strategy = 1.0)\n",
    "X_train_res, y_train_res = sm.fit_sample(X_train, y_train.ravel())\n",
    "#X_val_res, y_val_res = sm.fit_sample(X_val, y_val.ravel())\n",
    "\n",
    "y_train_count = Counter(y_train_res)\n",
    "y_val_count = Counter(y_val_res)\n",
    "\n",
    "# print(sum(y_val_res == 1))\n",
    "# print(sum(y_val_res == 0))\n",
    "print(\"y_train_count - \",y_train_count)\n",
    "print(\"y_val_count - \", y_val_count)\n",
    "\n",
    "# Visualise the Resampled Data\n",
    "pl = pd.DataFrame(y_val_res)\n",
    "pl.columns = ['Target']\n",
    "pl.Target.value_counts().plot(kind=\"bar\", title=\"Count\")"
   ]
  },
  {
   "cell_type": "markdown",
   "metadata": {},
   "source": [
    "### Build The Model - Logistic Regression"
   ]
  },
  {
   "cell_type": "code",
   "execution_count": 74,
   "metadata": {},
   "outputs": [],
   "source": [
    "log_reg = LogisticRegression().fit(X_train_res, y_train_res)"
   ]
  },
  {
   "cell_type": "markdown",
   "metadata": {},
   "source": [
    "### Accuracy Test on Train Set"
   ]
  },
  {
   "cell_type": "code",
   "execution_count": 77,
   "metadata": {},
   "outputs": [
    {
     "name": "stdout",
     "output_type": "stream",
     "text": [
      "accuracy_score: 0.6613781449493052\n",
      "        pred:0  pred:1\n",
      "true:0    3610    1716\n",
      "true:1    1891    3435\n"
     ]
    },
    {
     "data": {
      "text/plain": [
       "<module 'matplotlib.pyplot' from 'C:\\\\Hnin\\\\Anaconda3\\\\lib\\\\site-packages\\\\matplotlib\\\\pyplot.py'>"
      ]
     },
     "execution_count": 77,
     "metadata": {},
     "output_type": "execute_result"
    },
    {
     "data": {
      "image/png": "[encoded data removed]",
      "text/plain": [
       "<Figure size 432x288 with 1 Axes>"
      ]
     },
     "metadata": {
      "needs_background": "light"
     },
     "output_type": "display_data"
    }
   ],
   "source": [
    "y_train_prob = log_reg.predict_proba(X_train_res)[:,1]\n",
    "\n",
    "## Check Accuracy Score\n",
    "y_pred=log_reg.predict(X_train_res)\n",
    "print(\"accuracy_score:\",accuracy_score(y_train_res, y_pred))\n",
    "print(confusion_matrix(y_train_res, y_pred))\n",
    "\n",
    "## Plot ROC\n",
    "plot_roc(y_train_res, y_pred)"
   ]
  },
  {
   "cell_type": "markdown",
   "metadata": {},
   "source": [
    "### Accuracy Check on Validation Set"
   ]
  },
  {
   "cell_type": "code",
   "execution_count": 80,
   "metadata": {
    "scrolled": false
   },
   "outputs": [
    {
     "name": "stdout",
     "output_type": "stream",
     "text": [
      "accuracy_score: 0.63875\n",
      "        pred:0  pred:1\n",
      "true:0     170      87\n",
      "true:1     491     852\n"
     ]
    },
    {
     "data": {
      "text/plain": [
       "<module 'matplotlib.pyplot' from 'C:\\\\Hnin\\\\Anaconda3\\\\lib\\\\site-packages\\\\matplotlib\\\\pyplot.py'>"
      ]
     },
     "execution_count": 80,
     "metadata": {},
     "output_type": "execute_result"
    },
    {
     "data": {
      "image/png": "[encoded data removed]",
      "text/plain": [
       "<Figure size 432x288 with 1 Axes>"
      ]
     },
     "metadata": {
      "needs_background": "light"
     },
     "output_type": "display_data"
    }
   ],
   "source": [
    "y_prob=log_reg.predict_proba(X_val)[:,1]\n",
    "\n",
    "## Check Accuracy Score\n",
    "y_pred=log_reg.predict(X_val)\n",
    "print(\"accuracy_score:\", accuracy_score(y_val, y_pred))\n",
    "print(confusion_matrix(y_val, y_pred))\n",
    "\n",
    "## Plot ROC\n",
    "plot_roc(y_val, y_pred)\n"
   ]
  },
  {
   "cell_type": "markdown",
   "metadata": {},
   "source": [
    "### Prediction on Test Set "
   ]
  },
  {
   "cell_type": "code",
   "execution_count": 95,
   "metadata": {},
   "outputs": [
    {
     "data": {
      "text/html": [
       "<div>\n",
       "<style scoped>\n",
       "    .dataframe tbody tr th:only-of-type {\n",
       "        vertical-align: middle;\n",
       "    }\n",
       "\n",
       "    .dataframe tbody tr th {\n",
       "        vertical-align: top;\n",
       "    }\n",
       "\n",
       "    .dataframe thead th {\n",
       "        text-align: right;\n",
       "    }\n",
       "</style>\n",
       "<table border=\"1\" class=\"dataframe\">\n",
       "  <thead>\n",
       "    <tr style=\"text-align: right;\">\n",
       "      <th></th>\n",
       "      <th>Id</th>\n",
       "      <th>TARGET_5Yrs</th>\n",
       "    </tr>\n",
       "  </thead>\n",
       "  <tbody>\n",
       "    <tr>\n",
       "      <th>0</th>\n",
       "      <td>0</td>\n",
       "      <td>0.477408</td>\n",
       "    </tr>\n",
       "    <tr>\n",
       "      <th>1</th>\n",
       "      <td>1</td>\n",
       "      <td>0.454545</td>\n",
       "    </tr>\n",
       "    <tr>\n",
       "      <th>2</th>\n",
       "      <td>2</td>\n",
       "      <td>0.732773</td>\n",
       "    </tr>\n",
       "    <tr>\n",
       "      <th>3</th>\n",
       "      <td>3</td>\n",
       "      <td>0.783287</td>\n",
       "    </tr>\n",
       "    <tr>\n",
       "      <th>4</th>\n",
       "      <td>4</td>\n",
       "      <td>0.412399</td>\n",
       "    </tr>\n",
       "    <tr>\n",
       "      <th>5</th>\n",
       "      <td>5</td>\n",
       "      <td>0.714216</td>\n",
       "    </tr>\n",
       "    <tr>\n",
       "      <th>6</th>\n",
       "      <td>6</td>\n",
       "      <td>0.333125</td>\n",
       "    </tr>\n",
       "    <tr>\n",
       "      <th>7</th>\n",
       "      <td>7</td>\n",
       "      <td>0.419366</td>\n",
       "    </tr>\n",
       "    <tr>\n",
       "      <th>8</th>\n",
       "      <td>8</td>\n",
       "      <td>0.559182</td>\n",
       "    </tr>\n",
       "    <tr>\n",
       "      <th>9</th>\n",
       "      <td>9</td>\n",
       "      <td>0.201586</td>\n",
       "    </tr>\n",
       "  </tbody>\n",
       "</table>\n",
       "</div>"
      ],
      "text/plain": [
       "   Id  TARGET_5Yrs\n",
       "0   0     0.477408\n",
       "1   1     0.454545\n",
       "2   2     0.732773\n",
       "3   3     0.783287\n",
       "4   4     0.412399\n",
       "5   5     0.714216\n",
       "6   6     0.333125\n",
       "7   7     0.419366\n",
       "8   8     0.559182\n",
       "9   9     0.201586"
      ]
     },
     "execution_count": 95,
     "metadata": {},
     "output_type": "execute_result"
    }
   ],
   "source": [
    "test_df = test_df[selected_features]\n",
    "\n",
    "test_df_scaled = scaler.fit_transform(test_df)\n",
    "test_df_cleaned = pd.DataFrame(test_df_scaled)\n",
    "test_df_cleaned.columns = test_df.columns\n",
    "\n",
    "y_test_proba =log_reg.predict_proba(test_df_cleaned)[:,1]\n",
    "y_test_proba\n",
    "\n",
    "final_prediction_test = pd.DataFrame({'Id': range(0,3799), 'TARGET_5Yrs': [p for p in y_test_proba]})\n",
    "final_prediction_test.to_csv(\"../reports/tin_submission_stdscale_smote_logistic_regression_selFeatures.csv\", index=False)\n",
    "\n",
    "final_prediction_test.head(10)"
   ]
  }
 ],
 "metadata": {
  "kernelspec": {
   "display_name": "Python 3",
   "language": "python",
   "name": "python3"
  },
  "language_info": {
   "codemirror_mode": {
    "name": "ipython",
    "version": 3
   },
   "file_extension": ".py",
   "mimetype": "text/x-python",
   "name": "python",
   "nbconvert_exporter": "python",
   "pygments_lexer": "ipython3",
   "version": "3.6.9"
  }
 },
 "nbformat": 4,
 "nbformat_minor": 4
}
