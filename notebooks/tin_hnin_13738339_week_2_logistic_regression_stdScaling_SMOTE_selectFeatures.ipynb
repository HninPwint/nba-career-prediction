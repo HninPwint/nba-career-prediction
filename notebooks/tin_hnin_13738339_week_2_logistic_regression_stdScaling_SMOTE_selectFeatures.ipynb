{
 "cells": [
  {
   "cell_type": "markdown",
   "metadata": {},
   "source": [
    "### Introduction"
   ]
  },
  {
   "cell_type": "markdown",
   "metadata": {},
   "source": [
    "This notebook is an experiment of building a model that will predict if a rookie player will last at least 5 years in the league based on his stats.\n",
    "\n",
    "In the National Basketball Association (NBA), a rookie is any player who has never played a game in the NBA until that year. At the end of the season the NBA awards the best rookie with the NBA Rookie of the Year Award.\n",
    "\n",
    "Moving to the NBA league is a big deal for any basketball player. Sport commentators and fans are very excited to follow the start of their careers and guess how they will perform in the future.\n",
    "\n",
    "In this experiment, LogisticRegression model is used."
   ]
  },
  {
   "cell_type": "markdown",
   "metadata": {},
   "source": [
    "### Import the libraries"
   ]
  },
  {
   "cell_type": "code",
   "execution_count": 2,
   "metadata": {},
   "outputs": [
    {
     "name": "stderr",
     "output_type": "stream",
     "text": [
      "In C:\\Hnin\\Anaconda3\\lib\\site-packages\\matplotlib\\mpl-data\\stylelib\\_classic_test.mplstyle: \n",
      "The text.latex.preview rcparam was deprecated in Matplotlib 3.3 and will be removed two minor releases later.\n",
      "In C:\\Hnin\\Anaconda3\\lib\\site-packages\\matplotlib\\mpl-data\\stylelib\\_classic_test.mplstyle: \n",
      "The mathtext.fallback_to_cm rcparam was deprecated in Matplotlib 3.3 and will be removed two minor releases later.\n",
      "In C:\\Hnin\\Anaconda3\\lib\\site-packages\\matplotlib\\mpl-data\\stylelib\\_classic_test.mplstyle: Support for setting the 'mathtext.fallback_to_cm' rcParam is deprecated since 3.3 and will be removed two minor releases later; use 'mathtext.fallback : 'cm' instead.\n",
      "In C:\\Hnin\\Anaconda3\\lib\\site-packages\\matplotlib\\mpl-data\\stylelib\\_classic_test.mplstyle: \n",
      "The validate_bool_maybe_none function was deprecated in Matplotlib 3.3 and will be removed two minor releases later.\n",
      "In C:\\Hnin\\Anaconda3\\lib\\site-packages\\matplotlib\\mpl-data\\stylelib\\_classic_test.mplstyle: \n",
      "The savefig.jpeg_quality rcparam was deprecated in Matplotlib 3.3 and will be removed two minor releases later.\n",
      "In C:\\Hnin\\Anaconda3\\lib\\site-packages\\matplotlib\\mpl-data\\stylelib\\_classic_test.mplstyle: \n",
      "The keymap.all_axes rcparam was deprecated in Matplotlib 3.3 and will be removed two minor releases later.\n",
      "In C:\\Hnin\\Anaconda3\\lib\\site-packages\\matplotlib\\mpl-data\\stylelib\\_classic_test.mplstyle: \n",
      "The animation.avconv_path rcparam was deprecated in Matplotlib 3.3 and will be removed two minor releases later.\n",
      "In C:\\Hnin\\Anaconda3\\lib\\site-packages\\matplotlib\\mpl-data\\stylelib\\_classic_test.mplstyle: \n",
      "The animation.avconv_args rcparam was deprecated in Matplotlib 3.3 and will be removed two minor releases later.\n",
      "C:\\Hnin\\Anaconda3\\lib\\site-packages\\statsmodels\\tools\\_testing.py:19: FutureWarning: pandas.util.testing is deprecated. Use the functions in the public API at pandas.testing instead.\n",
      "  import pandas.util.testing as tm\n"
     ]
    }
   ],
   "source": [
    "import pandas as pd\n",
    "import numpy as np\n",
    "\n",
    "from sklearn.preprocessing import StandardScaler, PolynomialFeatures\n",
    "import os\n",
    "import sys\n",
    "sys.path.append(os.path.abspath('..'))\n",
    "from src.common_lib import DataReader, NBARawData\n",
    "from src.models.aj_metrics import confusion_matrix, plot_roc\n",
    "\n",
    "from sklearn.linear_model import LogisticRegression \n",
    "from sklearn.metrics import accuracy_score, roc_curve, auc\n",
    "import matplotlib.pyplot as plt\n",
    "from joblib import dump\n",
    "\n",
    "from collections import Counter\n",
    "\n",
    "import warnings\n",
    "warnings.simplefilter(action='ignore', category=FutureWarning)\n",
    "\n",
    "%load_ext autoreload\n",
    "%autoreload 2"
   ]
  },
  {
   "cell_type": "markdown",
   "metadata": {},
   "source": [
    "### Load the data"
   ]
  },
  {
   "cell_type": "code",
   "execution_count": 3,
   "metadata": {},
   "outputs": [],
   "source": [
    "# Instantiate the custom data reader class\n",
    "data_reader = DataReader()\n",
    "\n",
    "# Load Raw Train Data\n",
    "train_df = data_reader.read_data(NBARawData.TRAIN)\n",
    "\n",
    "# Load Test Raw Data\n",
    "test_df = data_reader.read_data(NBARawData.TEST)"
   ]
  },
  {
   "cell_type": "markdown",
   "metadata": {},
   "source": [
    "### Class Balance Check on Raw Data"
   ]
  },
  {
   "cell_type": "code",
   "execution_count": 4,
   "metadata": {},
   "outputs": [
    {
     "name": "stdout",
     "output_type": "stream",
     "text": [
      "Propotion:  0.2 :1\n",
      "Counter({6669: 1, 1331: 1})\n"
     ]
    },
    {
     "data": {
      "image/png": "[encoded data removed]",
      "text/plain": [
       "<Figure size 432x288 with 1 Axes>"
      ]
     },
     "metadata": {
      "needs_background": "light"
     },
     "output_type": "display_data"
    }
   ],
   "source": [
    "target_count = train_df[\"TARGET_5Yrs\"].value_counts()\n",
    "print('Propotion: ', round(target_count[0]/ target_count[1], 2), \":1\")\n",
    "\n",
    "print( Counter(target_count))\n",
    "data_reader.plot_class_balance(train_df[\"TARGET_5Yrs\"])"
   ]
  },
  {
   "cell_type": "markdown",
   "metadata": {},
   "source": [
    "### Scaling with Standard Scaler"
   ]
  },
  {
   "cell_type": "code",
   "execution_count": 23,
   "metadata": {},
   "outputs": [
    {
     "data": {
      "text/html": [
       "<div>\n",
       "<style scoped>\n",
       "    .dataframe tbody tr th:only-of-type {\n",
       "        vertical-align: middle;\n",
       "    }\n",
       "\n",
       "    .dataframe tbody tr th {\n",
       "        vertical-align: top;\n",
       "    }\n",
       "\n",
       "    .dataframe thead th {\n",
       "        text-align: right;\n",
       "    }\n",
       "</style>\n",
       "<table border=\"1\" class=\"dataframe\">\n",
       "  <thead>\n",
       "    <tr style=\"text-align: right;\">\n",
       "      <th></th>\n",
       "      <th>Id_old</th>\n",
       "      <th>Id</th>\n",
       "      <th>GP</th>\n",
       "      <th>MIN</th>\n",
       "      <th>PTS</th>\n",
       "      <th>FGM</th>\n",
       "      <th>FGA</th>\n",
       "      <th>FG%</th>\n",
       "      <th>3P Made</th>\n",
       "      <th>3PA</th>\n",
       "      <th>...</th>\n",
       "      <th>FTM</th>\n",
       "      <th>FTA</th>\n",
       "      <th>FT%</th>\n",
       "      <th>OREB</th>\n",
       "      <th>DREB</th>\n",
       "      <th>REB</th>\n",
       "      <th>AST</th>\n",
       "      <th>STL</th>\n",
       "      <th>BLK</th>\n",
       "      <th>TOV</th>\n",
       "    </tr>\n",
       "  </thead>\n",
       "  <tbody>\n",
       "    <tr>\n",
       "      <th>0</th>\n",
       "      <td>0.930059</td>\n",
       "      <td>-1.731834</td>\n",
       "      <td>1.006100</td>\n",
       "      <td>0.640574</td>\n",
       "      <td>0.123403</td>\n",
       "      <td>0.113959</td>\n",
       "      <td>0.047090</td>\n",
       "      <td>0.177269</td>\n",
       "      <td>-0.428374</td>\n",
       "      <td>-0.486911</td>\n",
       "      <td>...</td>\n",
       "      <td>0.655953</td>\n",
       "      <td>0.760387</td>\n",
       "      <td>0.070392</td>\n",
       "      <td>1.428377</td>\n",
       "      <td>-0.121037</td>\n",
       "      <td>0.266040</td>\n",
       "      <td>1.161949</td>\n",
       "      <td>1.107242</td>\n",
       "      <td>-0.055071</td>\n",
       "      <td>0.473210</td>\n",
       "    </tr>\n",
       "    <tr>\n",
       "      <th>1</th>\n",
       "      <td>-0.380914</td>\n",
       "      <td>-1.731401</td>\n",
       "      <td>0.714005</td>\n",
       "      <td>0.360766</td>\n",
       "      <td>0.748626</td>\n",
       "      <td>0.822648</td>\n",
       "      <td>0.465578</td>\n",
       "      <td>1.704465</td>\n",
       "      <td>-1.469853</td>\n",
       "      <td>-1.712288</td>\n",
       "      <td>...</td>\n",
       "      <td>1.087875</td>\n",
       "      <td>1.319370</td>\n",
       "      <td>-0.341888</td>\n",
       "      <td>3.210407</td>\n",
       "      <td>1.100107</td>\n",
       "      <td>1.608950</td>\n",
       "      <td>-0.681844</td>\n",
       "      <td>-0.364787</td>\n",
       "      <td>0.432148</td>\n",
       "      <td>0.196671</td>\n",
       "    </tr>\n",
       "    <tr>\n",
       "      <th>2</th>\n",
       "      <td>-0.286878</td>\n",
       "      <td>-1.730968</td>\n",
       "      <td>1.298195</td>\n",
       "      <td>0.058574</td>\n",
       "      <td>-0.640758</td>\n",
       "      <td>-0.535673</td>\n",
       "      <td>-0.482994</td>\n",
       "      <td>-0.293888</td>\n",
       "      <td>0.352736</td>\n",
       "      <td>0.361427</td>\n",
       "      <td>...</td>\n",
       "      <td>-1.071732</td>\n",
       "      <td>-1.076272</td>\n",
       "      <td>0.415557</td>\n",
       "      <td>-0.608229</td>\n",
       "      <td>-0.264701</td>\n",
       "      <td>-0.405415</td>\n",
       "      <td>-0.608092</td>\n",
       "      <td>-0.610125</td>\n",
       "      <td>-0.055071</td>\n",
       "      <td>-0.909485</td>\n",
       "    </tr>\n",
       "    <tr>\n",
       "      <th>3</th>\n",
       "      <td>1.743194</td>\n",
       "      <td>-1.730535</td>\n",
       "      <td>0.012976</td>\n",
       "      <td>0.058574</td>\n",
       "      <td>0.216029</td>\n",
       "      <td>0.409246</td>\n",
       "      <td>0.130788</td>\n",
       "      <td>1.282049</td>\n",
       "      <td>0.092366</td>\n",
       "      <td>-0.015612</td>\n",
       "      <td>...</td>\n",
       "      <td>-0.531830</td>\n",
       "      <td>-0.357579</td>\n",
       "      <td>-0.428180</td>\n",
       "      <td>-0.353653</td>\n",
       "      <td>-0.121037</td>\n",
       "      <td>-0.117649</td>\n",
       "      <td>0.129425</td>\n",
       "      <td>-0.610125</td>\n",
       "      <td>-0.176876</td>\n",
       "      <td>0.888019</td>\n",
       "    </tr>\n",
       "    <tr>\n",
       "      <th>4</th>\n",
       "      <td>-0.348731</td>\n",
       "      <td>-1.730102</td>\n",
       "      <td>0.012976</td>\n",
       "      <td>-0.086926</td>\n",
       "      <td>-0.826009</td>\n",
       "      <td>-0.653788</td>\n",
       "      <td>-0.789885</td>\n",
       "      <td>1.005854</td>\n",
       "      <td>0.613106</td>\n",
       "      <td>0.549947</td>\n",
       "      <td>...</td>\n",
       "      <td>-1.287692</td>\n",
       "      <td>-1.156127</td>\n",
       "      <td>-1.665021</td>\n",
       "      <td>1.682952</td>\n",
       "      <td>0.381787</td>\n",
       "      <td>0.793612</td>\n",
       "      <td>-0.903099</td>\n",
       "      <td>-0.610125</td>\n",
       "      <td>0.432148</td>\n",
       "      <td>-0.771215</td>\n",
       "    </tr>\n",
       "    <tr>\n",
       "      <th>...</th>\n",
       "      <td>...</td>\n",
       "      <td>...</td>\n",
       "      <td>...</td>\n",
       "      <td>...</td>\n",
       "      <td>...</td>\n",
       "      <td>...</td>\n",
       "      <td>...</td>\n",
       "      <td>...</td>\n",
       "      <td>...</td>\n",
       "      <td>...</td>\n",
       "      <td>...</td>\n",
       "      <td>...</td>\n",
       "      <td>...</td>\n",
       "      <td>...</td>\n",
       "      <td>...</td>\n",
       "      <td>...</td>\n",
       "      <td>...</td>\n",
       "      <td>...</td>\n",
       "      <td>...</td>\n",
       "      <td>...</td>\n",
       "      <td>...</td>\n",
       "    </tr>\n",
       "    <tr>\n",
       "      <th>7995</th>\n",
       "      <td>-0.970776</td>\n",
       "      <td>1.730102</td>\n",
       "      <td>-1.798014</td>\n",
       "      <td>-1.049465</td>\n",
       "      <td>-1.265980</td>\n",
       "      <td>-1.244362</td>\n",
       "      <td>-1.236272</td>\n",
       "      <td>-0.700057</td>\n",
       "      <td>-0.949113</td>\n",
       "      <td>-0.958210</td>\n",
       "      <td>...</td>\n",
       "      <td>-1.071732</td>\n",
       "      <td>-1.076272</td>\n",
       "      <td>-0.543235</td>\n",
       "      <td>-0.990093</td>\n",
       "      <td>-0.264701</td>\n",
       "      <td>-0.645220</td>\n",
       "      <td>-0.829347</td>\n",
       "      <td>-0.855464</td>\n",
       "      <td>-0.055071</td>\n",
       "      <td>-1.186024</td>\n",
       "    </tr>\n",
       "    <tr>\n",
       "      <th>7996</th>\n",
       "      <td>1.212418</td>\n",
       "      <td>1.730535</td>\n",
       "      <td>-0.512795</td>\n",
       "      <td>-1.407619</td>\n",
       "      <td>-1.265980</td>\n",
       "      <td>-1.244362</td>\n",
       "      <td>-1.347869</td>\n",
       "      <td>0.664672</td>\n",
       "      <td>-0.428374</td>\n",
       "      <td>-0.675430</td>\n",
       "      <td>...</td>\n",
       "      <td>-1.287692</td>\n",
       "      <td>-1.235982</td>\n",
       "      <td>-0.121366</td>\n",
       "      <td>-0.099078</td>\n",
       "      <td>-0.767525</td>\n",
       "      <td>-0.597259</td>\n",
       "      <td>-1.124354</td>\n",
       "      <td>-1.591478</td>\n",
       "      <td>0.066734</td>\n",
       "      <td>-1.324294</td>\n",
       "    </tr>\n",
       "    <tr>\n",
       "      <th>7997</th>\n",
       "      <td>-0.331885</td>\n",
       "      <td>1.730968</td>\n",
       "      <td>1.298195</td>\n",
       "      <td>1.077074</td>\n",
       "      <td>0.794939</td>\n",
       "      <td>0.704533</td>\n",
       "      <td>0.772469</td>\n",
       "      <td>0.079788</td>\n",
       "      <td>-0.168004</td>\n",
       "      <td>-0.204131</td>\n",
       "      <td>...</td>\n",
       "      <td>1.519796</td>\n",
       "      <td>1.558934</td>\n",
       "      <td>-0.159718</td>\n",
       "      <td>-0.099078</td>\n",
       "      <td>-0.049205</td>\n",
       "      <td>-0.069687</td>\n",
       "      <td>1.309452</td>\n",
       "      <td>1.352580</td>\n",
       "      <td>-0.055071</td>\n",
       "      <td>0.749749</td>\n",
       "    </tr>\n",
       "    <tr>\n",
       "      <th>7998</th>\n",
       "      <td>-1.399219</td>\n",
       "      <td>1.731401</td>\n",
       "      <td>-1.389081</td>\n",
       "      <td>-1.217350</td>\n",
       "      <td>-1.103885</td>\n",
       "      <td>-1.067190</td>\n",
       "      <td>-1.096776</td>\n",
       "      <td>-0.732551</td>\n",
       "      <td>-1.469853</td>\n",
       "      <td>-1.240989</td>\n",
       "      <td>...</td>\n",
       "      <td>-0.855771</td>\n",
       "      <td>-0.996417</td>\n",
       "      <td>0.281326</td>\n",
       "      <td>-0.862805</td>\n",
       "      <td>-1.126685</td>\n",
       "      <td>-1.124831</td>\n",
       "      <td>-1.050602</td>\n",
       "      <td>-0.855464</td>\n",
       "      <td>0.066734</td>\n",
       "      <td>-1.047755</td>\n",
       "    </tr>\n",
       "    <tr>\n",
       "      <th>7999</th>\n",
       "      <td>-0.994914</td>\n",
       "      <td>1.731834</td>\n",
       "      <td>-0.804890</td>\n",
       "      <td>0.069766</td>\n",
       "      <td>-0.571288</td>\n",
       "      <td>-0.653788</td>\n",
       "      <td>-0.315599</td>\n",
       "      <td>-1.951059</td>\n",
       "      <td>1.133846</td>\n",
       "      <td>1.492545</td>\n",
       "      <td>...</td>\n",
       "      <td>-0.639810</td>\n",
       "      <td>-0.517289</td>\n",
       "      <td>-0.121366</td>\n",
       "      <td>-1.244669</td>\n",
       "      <td>-0.767525</td>\n",
       "      <td>-0.980948</td>\n",
       "      <td>1.383204</td>\n",
       "      <td>0.616566</td>\n",
       "      <td>-0.664095</td>\n",
       "      <td>0.196671</td>\n",
       "    </tr>\n",
       "  </tbody>\n",
       "</table>\n",
       "<p>8000 rows × 21 columns</p>\n",
       "</div>"
      ],
      "text/plain": [
       "        Id_old        Id        GP       MIN       PTS       FGM       FGA  \\\n",
       "0     0.930059 -1.731834  1.006100  0.640574  0.123403  0.113959  0.047090   \n",
       "1    -0.380914 -1.731401  0.714005  0.360766  0.748626  0.822648  0.465578   \n",
       "2    -0.286878 -1.730968  1.298195  0.058574 -0.640758 -0.535673 -0.482994   \n",
       "3     1.743194 -1.730535  0.012976  0.058574  0.216029  0.409246  0.130788   \n",
       "4    -0.348731 -1.730102  0.012976 -0.086926 -0.826009 -0.653788 -0.789885   \n",
       "...        ...       ...       ...       ...       ...       ...       ...   \n",
       "7995 -0.970776  1.730102 -1.798014 -1.049465 -1.265980 -1.244362 -1.236272   \n",
       "7996  1.212418  1.730535 -0.512795 -1.407619 -1.265980 -1.244362 -1.347869   \n",
       "7997 -0.331885  1.730968  1.298195  1.077074  0.794939  0.704533  0.772469   \n",
       "7998 -1.399219  1.731401 -1.389081 -1.217350 -1.103885 -1.067190 -1.096776   \n",
       "7999 -0.994914  1.731834 -0.804890  0.069766 -0.571288 -0.653788 -0.315599   \n",
       "\n",
       "           FG%   3P Made       3PA  ...       FTM       FTA       FT%  \\\n",
       "0     0.177269 -0.428374 -0.486911  ...  0.655953  0.760387  0.070392   \n",
       "1     1.704465 -1.469853 -1.712288  ...  1.087875  1.319370 -0.341888   \n",
       "2    -0.293888  0.352736  0.361427  ... -1.071732 -1.076272  0.415557   \n",
       "3     1.282049  0.092366 -0.015612  ... -0.531830 -0.357579 -0.428180   \n",
       "4     1.005854  0.613106  0.549947  ... -1.287692 -1.156127 -1.665021   \n",
       "...        ...       ...       ...  ...       ...       ...       ...   \n",
       "7995 -0.700057 -0.949113 -0.958210  ... -1.071732 -1.076272 -0.543235   \n",
       "7996  0.664672 -0.428374 -0.675430  ... -1.287692 -1.235982 -0.121366   \n",
       "7997  0.079788 -0.168004 -0.204131  ...  1.519796  1.558934 -0.159718   \n",
       "7998 -0.732551 -1.469853 -1.240989  ... -0.855771 -0.996417  0.281326   \n",
       "7999 -1.951059  1.133846  1.492545  ... -0.639810 -0.517289 -0.121366   \n",
       "\n",
       "          OREB      DREB       REB       AST       STL       BLK       TOV  \n",
       "0     1.428377 -0.121037  0.266040  1.161949  1.107242 -0.055071  0.473210  \n",
       "1     3.210407  1.100107  1.608950 -0.681844 -0.364787  0.432148  0.196671  \n",
       "2    -0.608229 -0.264701 -0.405415 -0.608092 -0.610125 -0.055071 -0.909485  \n",
       "3    -0.353653 -0.121037 -0.117649  0.129425 -0.610125 -0.176876  0.888019  \n",
       "4     1.682952  0.381787  0.793612 -0.903099 -0.610125  0.432148 -0.771215  \n",
       "...        ...       ...       ...       ...       ...       ...       ...  \n",
       "7995 -0.990093 -0.264701 -0.645220 -0.829347 -0.855464 -0.055071 -1.186024  \n",
       "7996 -0.099078 -0.767525 -0.597259 -1.124354 -1.591478  0.066734 -1.324294  \n",
       "7997 -0.099078 -0.049205 -0.069687  1.309452  1.352580 -0.055071  0.749749  \n",
       "7998 -0.862805 -1.126685 -1.124831 -1.050602 -0.855464  0.066734 -1.047755  \n",
       "7999 -1.244669 -0.767525 -0.980948  1.383204  0.616566 -0.664095  0.196671  \n",
       "\n",
       "[8000 rows x 21 columns]"
      ]
     },
     "execution_count": 23,
     "metadata": {},
     "output_type": "execute_result"
    }
   ],
   "source": [
    "## Scaling\n",
    "df_cleaned = train_df.copy()\n",
    "target = df_cleaned.pop('TARGET_5Yrs')\n",
    "\n",
    "train_df_scaled = data_reader.scale_features_by_standard_scaler(df_cleaned)\n",
    "train_df_scaled"
   ]
  },
  {
   "cell_type": "markdown",
   "metadata": {},
   "source": [
    "### Select Features"
   ]
  },
  {
   "cell_type": "code",
   "execution_count": 24,
   "metadata": {},
   "outputs": [
    {
     "data": {
      "image/png": "[encoded data removed]",
      "text/plain": [
       "<Figure size 432x288 with 2 Axes>"
      ]
     },
     "metadata": {
      "needs_background": "light"
     },
     "output_type": "display_data"
    }
   ],
   "source": [
    "train_df_scaled['TARGET_5Yrs'] = target\n",
    "selected_features = data_reader.select_feature_by_correlation(train_df_scaled)"
   ]
  },
  {
   "cell_type": "code",
   "execution_count": 25,
   "metadata": {},
   "outputs": [
    {
     "data": {
      "text/plain": [
       "Index(['GP', 'MIN', 'FG%', '3P Made', '3P%', 'FTM', 'FT%', 'OREB', 'DREB',\n",
       "       'AST', 'STL', 'BLK', 'TOV', 'TARGET_5Yrs'],\n",
       "      dtype='object')"
      ]
     },
     "execution_count": 25,
     "metadata": {},
     "output_type": "execute_result"
    }
   ],
   "source": [
    "selected_features"
   ]
  },
  {
   "cell_type": "markdown",
   "metadata": {},
   "source": [
    "### Split Train and Test on Scaled Data with Selected Features"
   ]
  },
  {
   "cell_type": "code",
   "execution_count": 28,
   "metadata": {},
   "outputs": [
    {
     "data": {
      "text/html": [
       "<div>\n",
       "<style scoped>\n",
       "    .dataframe tbody tr th:only-of-type {\n",
       "        vertical-align: middle;\n",
       "    }\n",
       "\n",
       "    .dataframe tbody tr th {\n",
       "        vertical-align: top;\n",
       "    }\n",
       "\n",
       "    .dataframe thead th {\n",
       "        text-align: right;\n",
       "    }\n",
       "</style>\n",
       "<table border=\"1\" class=\"dataframe\">\n",
       "  <thead>\n",
       "    <tr style=\"text-align: right;\">\n",
       "      <th></th>\n",
       "      <th>GP</th>\n",
       "      <th>MIN</th>\n",
       "      <th>FG%</th>\n",
       "      <th>3P Made</th>\n",
       "      <th>3P%</th>\n",
       "      <th>FTM</th>\n",
       "      <th>FT%</th>\n",
       "      <th>OREB</th>\n",
       "      <th>DREB</th>\n",
       "      <th>AST</th>\n",
       "      <th>STL</th>\n",
       "      <th>BLK</th>\n",
       "      <th>TOV</th>\n",
       "    </tr>\n",
       "  </thead>\n",
       "  <tbody>\n",
       "    <tr>\n",
       "      <th>3617</th>\n",
       "      <td>0.071395</td>\n",
       "      <td>-0.523427</td>\n",
       "      <td>-0.261394</td>\n",
       "      <td>-1.209483</td>\n",
       "      <td>-0.480167</td>\n",
       "      <td>0.008072</td>\n",
       "      <td>-0.207657</td>\n",
       "      <td>-0.608229</td>\n",
       "      <td>-0.336533</td>\n",
       "      <td>-0.755595</td>\n",
       "      <td>-0.610125</td>\n",
       "      <td>-0.176876</td>\n",
       "      <td>-0.771215</td>\n",
       "    </tr>\n",
       "    <tr>\n",
       "      <th>1120</th>\n",
       "      <td>1.064519</td>\n",
       "      <td>0.248843</td>\n",
       "      <td>0.031048</td>\n",
       "      <td>0.352736</td>\n",
       "      <td>-0.467668</td>\n",
       "      <td>0.439993</td>\n",
       "      <td>0.731958</td>\n",
       "      <td>0.791937</td>\n",
       "      <td>1.315603</td>\n",
       "      <td>-0.681844</td>\n",
       "      <td>-0.119449</td>\n",
       "      <td>-0.176876</td>\n",
       "      <td>0.058402</td>\n",
       "    </tr>\n",
       "    <tr>\n",
       "      <th>3873</th>\n",
       "      <td>-0.746471</td>\n",
       "      <td>-1.452389</td>\n",
       "      <td>-1.333681</td>\n",
       "      <td>-0.688743</td>\n",
       "      <td>-1.417540</td>\n",
       "      <td>-1.287692</td>\n",
       "      <td>-0.265185</td>\n",
       "      <td>-1.244669</td>\n",
       "      <td>-1.414013</td>\n",
       "      <td>-0.091830</td>\n",
       "      <td>-0.610125</td>\n",
       "      <td>-0.664095</td>\n",
       "      <td>-1.324294</td>\n",
       "    </tr>\n",
       "    <tr>\n",
       "      <th>153</th>\n",
       "      <td>0.538748</td>\n",
       "      <td>0.080958</td>\n",
       "      <td>-0.683810</td>\n",
       "      <td>-0.428374</td>\n",
       "      <td>0.357221</td>\n",
       "      <td>-0.531830</td>\n",
       "      <td>-2.201944</td>\n",
       "      <td>-0.480941</td>\n",
       "      <td>-0.121037</td>\n",
       "      <td>-0.386837</td>\n",
       "      <td>-0.364787</td>\n",
       "      <td>-0.055071</td>\n",
       "      <td>-0.494676</td>\n",
       "    </tr>\n",
       "    <tr>\n",
       "      <th>2960</th>\n",
       "      <td>-1.038567</td>\n",
       "      <td>0.125727</td>\n",
       "      <td>-0.407615</td>\n",
       "      <td>-0.428374</td>\n",
       "      <td>-1.392544</td>\n",
       "      <td>-0.315869</td>\n",
       "      <td>-0.897987</td>\n",
       "      <td>-0.099078</td>\n",
       "      <td>-0.480197</td>\n",
       "      <td>-0.091830</td>\n",
       "      <td>-0.610125</td>\n",
       "      <td>0.066734</td>\n",
       "      <td>0.749749</td>\n",
       "    </tr>\n",
       "    <tr>\n",
       "      <th>...</th>\n",
       "      <td>...</td>\n",
       "      <td>...</td>\n",
       "      <td>...</td>\n",
       "      <td>...</td>\n",
       "      <td>...</td>\n",
       "      <td>...</td>\n",
       "      <td>...</td>\n",
       "      <td>...</td>\n",
       "      <td>...</td>\n",
       "      <td>...</td>\n",
       "      <td>...</td>\n",
       "      <td>...</td>\n",
       "      <td>...</td>\n",
       "    </tr>\n",
       "    <tr>\n",
       "      <th>2181</th>\n",
       "      <td>0.655586</td>\n",
       "      <td>3.114075</td>\n",
       "      <td>0.112281</td>\n",
       "      <td>1.394215</td>\n",
       "      <td>1.413328</td>\n",
       "      <td>1.843737</td>\n",
       "      <td>-0.322712</td>\n",
       "      <td>1.046513</td>\n",
       "      <td>2.895908</td>\n",
       "      <td>1.309452</td>\n",
       "      <td>1.843256</td>\n",
       "      <td>0.066734</td>\n",
       "      <td>2.408983</td>\n",
       "    </tr>\n",
       "    <tr>\n",
       "      <th>2409</th>\n",
       "      <td>-0.220700</td>\n",
       "      <td>-0.422696</td>\n",
       "      <td>-1.772344</td>\n",
       "      <td>0.613106</td>\n",
       "      <td>-0.330187</td>\n",
       "      <td>-0.099909</td>\n",
       "      <td>-1.444499</td>\n",
       "      <td>-0.480941</td>\n",
       "      <td>-0.695693</td>\n",
       "      <td>-0.091830</td>\n",
       "      <td>0.616566</td>\n",
       "      <td>-0.176876</td>\n",
       "      <td>-0.771215</td>\n",
       "    </tr>\n",
       "    <tr>\n",
       "      <th>2033</th>\n",
       "      <td>-0.454376</td>\n",
       "      <td>-0.333157</td>\n",
       "      <td>-0.033940</td>\n",
       "      <td>0.873476</td>\n",
       "      <td>0.775914</td>\n",
       "      <td>-0.747791</td>\n",
       "      <td>0.127920</td>\n",
       "      <td>0.028210</td>\n",
       "      <td>0.094459</td>\n",
       "      <td>-0.460589</td>\n",
       "      <td>-0.364787</td>\n",
       "      <td>0.066734</td>\n",
       "      <td>-0.632946</td>\n",
       "    </tr>\n",
       "    <tr>\n",
       "      <th>1364</th>\n",
       "      <td>1.648710</td>\n",
       "      <td>3.281959</td>\n",
       "      <td>0.226009</td>\n",
       "      <td>0.352736</td>\n",
       "      <td>-1.261311</td>\n",
       "      <td>1.951717</td>\n",
       "      <td>-0.476119</td>\n",
       "      <td>2.446680</td>\n",
       "      <td>3.111404</td>\n",
       "      <td>1.899466</td>\n",
       "      <td>0.616566</td>\n",
       "      <td>0.432148</td>\n",
       "      <td>0.473210</td>\n",
       "    </tr>\n",
       "    <tr>\n",
       "      <th>4547</th>\n",
       "      <td>0.246653</td>\n",
       "      <td>0.875612</td>\n",
       "      <td>0.827140</td>\n",
       "      <td>-1.469853</td>\n",
       "      <td>-1.523776</td>\n",
       "      <td>0.655953</td>\n",
       "      <td>0.425145</td>\n",
       "      <td>2.319392</td>\n",
       "      <td>1.962091</td>\n",
       "      <td>-0.976850</td>\n",
       "      <td>-0.119449</td>\n",
       "      <td>2.624635</td>\n",
       "      <td>-0.356407</td>\n",
       "    </tr>\n",
       "  </tbody>\n",
       "</table>\n",
       "<p>6400 rows × 13 columns</p>\n",
       "</div>"
      ],
      "text/plain": [
       "            GP       MIN       FG%   3P Made       3P%       FTM       FT%  \\\n",
       "3617  0.071395 -0.523427 -0.261394 -1.209483 -0.480167  0.008072 -0.207657   \n",
       "1120  1.064519  0.248843  0.031048  0.352736 -0.467668  0.439993  0.731958   \n",
       "3873 -0.746471 -1.452389 -1.333681 -0.688743 -1.417540 -1.287692 -0.265185   \n",
       "153   0.538748  0.080958 -0.683810 -0.428374  0.357221 -0.531830 -2.201944   \n",
       "2960 -1.038567  0.125727 -0.407615 -0.428374 -1.392544 -0.315869 -0.897987   \n",
       "...        ...       ...       ...       ...       ...       ...       ...   \n",
       "2181  0.655586  3.114075  0.112281  1.394215  1.413328  1.843737 -0.322712   \n",
       "2409 -0.220700 -0.422696 -1.772344  0.613106 -0.330187 -0.099909 -1.444499   \n",
       "2033 -0.454376 -0.333157 -0.033940  0.873476  0.775914 -0.747791  0.127920   \n",
       "1364  1.648710  3.281959  0.226009  0.352736 -1.261311  1.951717 -0.476119   \n",
       "4547  0.246653  0.875612  0.827140 -1.469853 -1.523776  0.655953  0.425145   \n",
       "\n",
       "          OREB      DREB       AST       STL       BLK       TOV  \n",
       "3617 -0.608229 -0.336533 -0.755595 -0.610125 -0.176876 -0.771215  \n",
       "1120  0.791937  1.315603 -0.681844 -0.119449 -0.176876  0.058402  \n",
       "3873 -1.244669 -1.414013 -0.091830 -0.610125 -0.664095 -1.324294  \n",
       "153  -0.480941 -0.121037 -0.386837 -0.364787 -0.055071 -0.494676  \n",
       "2960 -0.099078 -0.480197 -0.091830 -0.610125  0.066734  0.749749  \n",
       "...        ...       ...       ...       ...       ...       ...  \n",
       "2181  1.046513  2.895908  1.309452  1.843256  0.066734  2.408983  \n",
       "2409 -0.480941 -0.695693 -0.091830  0.616566 -0.176876 -0.771215  \n",
       "2033  0.028210  0.094459 -0.460589 -0.364787  0.066734 -0.632946  \n",
       "1364  2.446680  3.111404  1.899466  0.616566  0.432148  0.473210  \n",
       "4547  2.319392  1.962091 -0.976850 -0.119449  2.624635 -0.356407  \n",
       "\n",
       "[6400 rows x 13 columns]"
      ]
     },
     "execution_count": 28,
     "metadata": {},
     "output_type": "execute_result"
    }
   ],
   "source": [
    "train_df_scaled  = train_df_scaled[selected_features]\n",
    "X_train, X_val, y_train, y_val = data_reader.split_data(train_df_scaled)"
   ]
  },
  {
   "cell_type": "code",
   "execution_count": 33,
   "metadata": {},
   "outputs": [
    {
     "name": "stdout",
     "output_type": "stream",
     "text": [
      "Counter({1: 5326, 0: 1074})\n",
      "Counter({1: 1343, 0: 257})\n"
     ]
    },
    {
     "data": {
      "image/png": "[encoded data removed]",
      "text/plain": [
       "<Figure size 432x288 with 1 Axes>"
      ]
     },
     "metadata": {
      "needs_background": "light"
     },
     "output_type": "display_data"
    }
   ],
   "source": [
    "### Visualisation Before Sampling Classification Count\n",
    "print( Counter(y_train))\n",
    "data_reader.plot_class_balance(y_train)"
   ]
  },
  {
   "cell_type": "code",
   "execution_count": 34,
   "metadata": {},
   "outputs": [
    {
     "name": "stdout",
     "output_type": "stream",
     "text": [
      "Counter({1: 1343, 0: 257})\n"
     ]
    },
    {
     "data": {
      "image/png": "[encoded data removed]",
      "text/plain": [
       "<Figure size 432x288 with 1 Axes>"
      ]
     },
     "metadata": {
      "needs_background": "light"
     },
     "output_type": "display_data"
    }
   ],
   "source": [
    "print(Counter(y_val))\n",
    "data_reader.plot_class_balance(y_val)"
   ]
  },
  {
   "cell_type": "markdown",
   "metadata": {},
   "source": [
    "### Re-sampling -  Over Sampling"
   ]
  },
  {
   "cell_type": "code",
   "execution_count": 40,
   "metadata": {},
   "outputs": [
    {
     "data": {
      "image/png": "[encoded data removed]",
      "text/plain": [
       "<Figure size 432x288 with 1 Axes>"
      ]
     },
     "metadata": {
      "needs_background": "light"
     },
     "output_type": "display_data"
    }
   ],
   "source": [
    "# Resample Train Data\n",
    "X_train_res, y_train_res = data_reader.resample_data_upsample_smote(X_train, y_train)\n",
    "\n",
    "# Re-plot the target\n",
    "data_reader.plot_class_balance(y_train_res)"
   ]
  },
  {
   "cell_type": "markdown",
   "metadata": {},
   "source": [
    "### Build The Model - Logistic Regression"
   ]
  },
  {
   "cell_type": "code",
   "execution_count": 42,
   "metadata": {},
   "outputs": [],
   "source": [
    "log_reg = LogisticRegression().fit(X_train_res, y_train_res)"
   ]
  },
  {
   "cell_type": "markdown",
   "metadata": {},
   "source": [
    "### Accuracy Test on Train Set"
   ]
  },
  {
   "cell_type": "code",
   "execution_count": 43,
   "metadata": {},
   "outputs": [
    {
     "name": "stdout",
     "output_type": "stream",
     "text": [
      "accuracy_score: 0.6613781449493052\n",
      "        pred:0  pred:1\n",
      "true:0    3610    1716\n",
      "true:1    1891    3435\n"
     ]
    },
    {
     "data": {
      "text/plain": [
       "<module 'matplotlib.pyplot' from 'C:\\\\Hnin\\\\Anaconda3\\\\lib\\\\site-packages\\\\matplotlib\\\\pyplot.py'>"
      ]
     },
     "execution_count": 43,
     "metadata": {},
     "output_type": "execute_result"
    },
    {
     "data": {
      "image/png": "[encoded data removed]",
      "text/plain": [
       "<Figure size 432x288 with 1 Axes>"
      ]
     },
     "metadata": {
      "needs_background": "light"
     },
     "output_type": "display_data"
    }
   ],
   "source": [
    "y_train_prob = log_reg.predict_proba(X_train_res)[:,1]\n",
    "\n",
    "## Check Accuracy Score\n",
    "y_pred=log_reg.predict(X_train_res)\n",
    "print(\"accuracy_score:\",accuracy_score(y_train_res, y_pred))\n",
    "print(confusion_matrix(y_train_res, y_pred))\n",
    "\n",
    "## Plot ROC\n",
    "plot_roc(y_train_res, y_pred)"
   ]
  },
  {
   "cell_type": "markdown",
   "metadata": {},
   "source": [
    "### Accuracy Check on Validation Set"
   ]
  },
  {
   "cell_type": "code",
   "execution_count": 44,
   "metadata": {
    "scrolled": false
   },
   "outputs": [
    {
     "name": "stdout",
     "output_type": "stream",
     "text": [
      "accuracy_score: 0.63875\n",
      "        pred:0  pred:1\n",
      "true:0     170      87\n",
      "true:1     491     852\n"
     ]
    },
    {
     "data": {
      "text/plain": [
       "<module 'matplotlib.pyplot' from 'C:\\\\Hnin\\\\Anaconda3\\\\lib\\\\site-packages\\\\matplotlib\\\\pyplot.py'>"
      ]
     },
     "execution_count": 44,
     "metadata": {},
     "output_type": "execute_result"
    },
    {
     "data": {
      "image/png": "[encoded data removed]",
      "text/plain": [
       "<Figure size 432x288 with 1 Axes>"
      ]
     },
     "metadata": {
      "needs_background": "light"
     },
     "output_type": "display_data"
    }
   ],
   "source": [
    "y_prob=log_reg.predict_proba(X_val)[:,1]\n",
    "\n",
    "## Check Accuracy Score\n",
    "y_pred=log_reg.predict(X_val)\n",
    "print(\"accuracy_score:\", accuracy_score(y_val, y_pred))\n",
    "print(confusion_matrix(y_val, y_pred))\n",
    "\n",
    "## Plot ROC\n",
    "plot_roc(y_val, y_pred)\n"
   ]
  },
  {
   "cell_type": "markdown",
   "metadata": {},
   "source": [
    "### Prediction on Test Set "
   ]
  },
  {
   "cell_type": "code",
   "execution_count": 51,
   "metadata": {},
   "outputs": [
    {
     "data": {
      "text/html": [
       "<div>\n",
       "<style scoped>\n",
       "    .dataframe tbody tr th:only-of-type {\n",
       "        vertical-align: middle;\n",
       "    }\n",
       "\n",
       "    .dataframe tbody tr th {\n",
       "        vertical-align: top;\n",
       "    }\n",
       "\n",
       "    .dataframe thead th {\n",
       "        text-align: right;\n",
       "    }\n",
       "</style>\n",
       "<table border=\"1\" class=\"dataframe\">\n",
       "  <thead>\n",
       "    <tr style=\"text-align: right;\">\n",
       "      <th></th>\n",
       "      <th>Id</th>\n",
       "      <th>TARGET_5Yrs</th>\n",
       "    </tr>\n",
       "  </thead>\n",
       "  <tbody>\n",
       "    <tr>\n",
       "      <th>0</th>\n",
       "      <td>0</td>\n",
       "      <td>0.477408</td>\n",
       "    </tr>\n",
       "    <tr>\n",
       "      <th>1</th>\n",
       "      <td>1</td>\n",
       "      <td>0.454545</td>\n",
       "    </tr>\n",
       "    <tr>\n",
       "      <th>2</th>\n",
       "      <td>2</td>\n",
       "      <td>0.732773</td>\n",
       "    </tr>\n",
       "    <tr>\n",
       "      <th>3</th>\n",
       "      <td>3</td>\n",
       "      <td>0.783287</td>\n",
       "    </tr>\n",
       "    <tr>\n",
       "      <th>4</th>\n",
       "      <td>4</td>\n",
       "      <td>0.412399</td>\n",
       "    </tr>\n",
       "    <tr>\n",
       "      <th>5</th>\n",
       "      <td>5</td>\n",
       "      <td>0.714216</td>\n",
       "    </tr>\n",
       "    <tr>\n",
       "      <th>6</th>\n",
       "      <td>6</td>\n",
       "      <td>0.333125</td>\n",
       "    </tr>\n",
       "    <tr>\n",
       "      <th>7</th>\n",
       "      <td>7</td>\n",
       "      <td>0.419366</td>\n",
       "    </tr>\n",
       "    <tr>\n",
       "      <th>8</th>\n",
       "      <td>8</td>\n",
       "      <td>0.559182</td>\n",
       "    </tr>\n",
       "    <tr>\n",
       "      <th>9</th>\n",
       "      <td>9</td>\n",
       "      <td>0.201586</td>\n",
       "    </tr>\n",
       "  </tbody>\n",
       "</table>\n",
       "</div>"
      ],
      "text/plain": [
       "   Id  TARGET_5Yrs\n",
       "0   0     0.477408\n",
       "1   1     0.454545\n",
       "2   2     0.732773\n",
       "3   3     0.783287\n",
       "4   4     0.412399\n",
       "5   5     0.714216\n",
       "6   6     0.333125\n",
       "7   7     0.419366\n",
       "8   8     0.559182\n",
       "9   9     0.201586"
      ]
     },
     "execution_count": 51,
     "metadata": {},
     "output_type": "execute_result"
    }
   ],
   "source": [
    "# Remove the target column, because the raw test set does not contain it\n",
    "features_without_target = np.delete(selected_features, 13)\n",
    "test_df = test_df[features_without_target]\n",
    "test_df_scaled =  data_reader.scale_features_by_standard_scaler(test_df)\n",
    "\n",
    "\n",
    "y_test_proba =log_reg.predict_proba(test_df_scaled)[:,1]\n",
    "\n",
    "\n",
    "final_prediction_test = pd.DataFrame({'Id': range(0,3799), 'TARGET_5Yrs': [p for p in y_test_proba]})\n",
    "final_prediction_test.to_csv(\"../reports/tin_submission_stdscale_smote_logistic_regression_selFeatures.csv\", index=False)\n",
    "\n",
    "final_prediction_test.head(10)"
   ]
  }
 ],
 "metadata": {
  "kernelspec": {
   "display_name": "Python 3",
   "language": "python",
   "name": "python3"
  },
  "language_info": {
   "codemirror_mode": {
    "name": "ipython",
    "version": 3
   },
   "file_extension": ".py",
   "mimetype": "text/x-python",
   "name": "python",
   "nbconvert_exporter": "python",
   "pygments_lexer": "ipython3",
   "version": "3.6.9"
  }
 },
 "nbformat": 4,
 "nbformat_minor": 4
}
